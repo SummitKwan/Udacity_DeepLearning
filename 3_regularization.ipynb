{
 "cells": [
  {
   "cell_type": "markdown",
   "metadata": {
    "colab_type": "text",
    "id": "kR-4eNdK6lYS"
   },
   "source": [
    "Deep Learning\n",
    "=============\n",
    "\n",
    "Assignment 3\n",
    "------------\n",
    "\n",
    "Previously in `2_fullyconnected.ipynb`, you trained a logistic regression and a neural network model.\n",
    "\n",
    "The goal of this assignment is to explore regularization techniques."
   ]
  },
  {
   "cell_type": "code",
   "execution_count": 1,
   "metadata": {
    "cellView": "both",
    "colab": {
     "autoexec": {
      "startup": false,
      "wait_interval": 0.0
     }
    },
    "colab_type": "code",
    "id": "JLpLa8Jt7Vu4"
   },
   "outputs": [
    {
     "name": "stderr",
     "output_type": "stream",
     "text": [
      "/shared/homes/sguan/anaconda3/lib/python3.6/importlib/_bootstrap.py:205: RuntimeWarning: compiletime version 3.5 of module 'tensorflow.python.framework.fast_tensor_util' does not match runtime version 3.6\n",
      "  return f(*args, **kwds)\n"
     ]
    }
   ],
   "source": [
    "# These are all the modules we'll be using later. Make sure you can import them\n",
    "# before proceeding further.\n",
    "from __future__ import print_function\n",
    "import os\n",
    "import numpy as np\n",
    "import tensorflow as tf\n",
    "from six.moves import cPickle as pickle\n",
    "import matplotlib.pyplot as plt\n",
    "%matplotlib inline"
   ]
  },
  {
   "cell_type": "markdown",
   "metadata": {
    "colab_type": "text",
    "id": "1HrCK6e17WzV"
   },
   "source": [
    "First reload the data we generated in `1_notmnist.ipynb`."
   ]
  },
  {
   "cell_type": "code",
   "execution_count": 2,
   "metadata": {
    "cellView": "both",
    "colab": {
     "autoexec": {
      "startup": false,
      "wait_interval": 0.0
     },
     "output_extras": [
      {
       "item_id": 1.0
      }
     ]
    },
    "colab_type": "code",
    "executionInfo": {
     "elapsed": 11777.0,
     "status": "ok",
     "timestamp": 1.449849322348E12,
     "user": {
      "color": "",
      "displayName": "",
      "isAnonymous": false,
      "isMe": true,
      "permissionId": "",
      "photoUrl": "",
      "sessionId": "0",
      "userId": ""
     },
     "user_tz": 480.0
    },
    "id": "y3-cj1bpmuxc",
    "outputId": "e03576f1-ebbe-4838-c388-f1777bcc9873"
   },
   "outputs": [
    {
     "name": "stdout",
     "output_type": "stream",
     "text": [
      "Training set (195125, 28, 28) (195125,)\n",
      "Validation set (9828, 28, 28) (9828,)\n",
      "Test set (10000, 28, 28) (10000,)\n"
     ]
    }
   ],
   "source": [
    "data_root = './support_data'\n",
    "# pickle_file = os.path.join(data_root, 'notMNIST.pickle')\n",
    "pickle_file = os.path.join(data_root, 'notMNIST_clean.pickle')\n",
    "\n",
    "\n",
    "\n",
    "with open(pickle_file, 'rb') as f:\n",
    "  save = pickle.load(f)\n",
    "  train_dataset = save['train_dataset']\n",
    "  train_labels = save['train_labels']\n",
    "  valid_dataset = save['valid_dataset']\n",
    "  valid_labels = save['valid_labels']\n",
    "  test_dataset = save['test_dataset']\n",
    "  test_labels = save['test_labels']\n",
    "  del save  # hint to help gc free up memory\n",
    "  print('Training set', train_dataset.shape, train_labels.shape)\n",
    "  print('Validation set', valid_dataset.shape, valid_labels.shape)\n",
    "  print('Test set', test_dataset.shape, test_labels.shape)"
   ]
  },
  {
   "cell_type": "markdown",
   "metadata": {
    "colab_type": "text",
    "id": "L7aHrm6nGDMB"
   },
   "source": [
    "Reformat into a shape that's more adapted to the models we're going to train:\n",
    "- data as a flat matrix,\n",
    "- labels as float 1-hot encodings."
   ]
  },
  {
   "cell_type": "code",
   "execution_count": 3,
   "metadata": {
    "cellView": "both",
    "colab": {
     "autoexec": {
      "startup": false,
      "wait_interval": 0.0
     },
     "output_extras": [
      {
       "item_id": 1.0
      }
     ]
    },
    "colab_type": "code",
    "executionInfo": {
     "elapsed": 11728.0,
     "status": "ok",
     "timestamp": 1.449849322356E12,
     "user": {
      "color": "",
      "displayName": "",
      "isAnonymous": false,
      "isMe": true,
      "permissionId": "",
      "photoUrl": "",
      "sessionId": "0",
      "userId": ""
     },
     "user_tz": 480.0
    },
    "id": "IRSyYiIIGIzS",
    "outputId": "3f8996ee-3574-4f44-c953-5c8a04636582"
   },
   "outputs": [
    {
     "name": "stdout",
     "output_type": "stream",
     "text": [
      "Training set (195125, 784) (195125, 10)\n",
      "Validation set (9828, 784) (9828, 10)\n",
      "Test set (10000, 784) (10000, 10)\n"
     ]
    }
   ],
   "source": [
    "image_size = 28\n",
    "num_labels = 10\n",
    "\n",
    "def reformat(dataset, labels):\n",
    "  dataset = dataset.reshape((-1, image_size * image_size)).astype(np.float32)\n",
    "  # Map 1 to [0.0, 1.0, 0.0 ...], 2 to [0.0, 0.0, 1.0 ...]\n",
    "  labels = (np.arange(num_labels) == labels[:,None]).astype(np.float32)\n",
    "  return dataset, labels\n",
    "train_dataset, train_labels = reformat(train_dataset, train_labels)\n",
    "valid_dataset, valid_labels = reformat(valid_dataset, valid_labels)\n",
    "test_dataset, test_labels = reformat(test_dataset, test_labels)\n",
    "print('Training set', train_dataset.shape, train_labels.shape)\n",
    "print('Validation set', valid_dataset.shape, valid_labels.shape)\n",
    "print('Test set', test_dataset.shape, test_labels.shape)"
   ]
  },
  {
   "cell_type": "code",
   "execution_count": 4,
   "metadata": {
    "cellView": "both",
    "colab": {
     "autoexec": {
      "startup": false,
      "wait_interval": 0.0
     }
    },
    "colab_type": "code",
    "collapsed": true,
    "id": "RajPLaL_ZW6w"
   },
   "outputs": [],
   "source": [
    "def accuracy(predictions, labels):\n",
    "  return (100.0 * np.sum(np.argmax(predictions, 1) == np.argmax(labels, 1))\n",
    "          / predictions.shape[0])"
   ]
  },
  {
   "cell_type": "markdown",
   "metadata": {
    "colab_type": "text",
    "id": "sgLbUAQ1CW-1"
   },
   "source": [
    "---\n",
    "Problem 1\n",
    "---------\n",
    "\n",
    "Introduce and tune L2 regularization for both logistic and neural network models. Remember that L2 amounts to adding a penalty on the norm of the weights to the loss. In TensorFlow, you can compute the L2 loss for a tensor `t` using `nn.l2_loss(t)`. The right amount of regularization should improve your validation / test accuracy.\n",
    "\n",
    "---"
   ]
  },
  {
   "cell_type": "code",
   "execution_count": 5,
   "metadata": {},
   "outputs": [
    {
     "name": "stdout",
     "output_type": "stream",
     "text": [
      "Minibatch loss at step 0: 580.656372\n",
      "Minibatch accuracy: 17.2%\n",
      "Validation accuracy: 30.9%\n",
      "Minibatch loss at step 500: 194.338867\n",
      "Minibatch accuracy: 82.0%\n",
      "Validation accuracy: 80.8%\n",
      "Minibatch loss at step 1000: 115.250259\n",
      "Minibatch accuracy: 82.0%\n",
      "Validation accuracy: 81.8%\n",
      "Minibatch loss at step 1500: 69.724136\n",
      "Minibatch accuracy: 78.9%\n",
      "Validation accuracy: 81.7%\n",
      "Minibatch loss at step 2000: 41.610184\n",
      "Minibatch accuracy: 87.5%\n",
      "Validation accuracy: 85.2%\n",
      "Minibatch loss at step 2500: 25.220068\n",
      "Minibatch accuracy: 91.4%\n",
      "Validation accuracy: 86.1%\n",
      "Minibatch loss at step 3000: 15.327762\n",
      "Minibatch accuracy: 92.2%\n",
      "Validation accuracy: 87.2%\n",
      "Test accuracy: 93.2%\n"
     ]
    },
    {
     "data": {
      "text/plain": [
       "<matplotlib.text.Text at 0x7f9ffc5604a8>"
      ]
     },
     "execution_count": 5,
     "metadata": {},
     "output_type": "execute_result"
    },
    {
     "data": {
      "image/png": "[encoded data removed]",
      "text/plain": [
       "<matplotlib.figure.Figure at 0x7fa002014ef0>"
      ]
     },
     "metadata": {},
     "output_type": "display_data"
    }
   ],
   "source": [
    "# write the computational graph from scrach\n",
    "size_batch = 128\n",
    "M_X = train_dataset.shape[1]\n",
    "M_H = 1024\n",
    "M_Y = train_labels.shape[1]\n",
    "lambda_l2 = 0.001\n",
    "\n",
    "\n",
    "# first, we need a grpah\n",
    "graph = tf.Graph()\n",
    "with graph.as_default():\n",
    "    # input data\n",
    "    X_tr = tf.placeholder(dtype=tf.float32, shape=[size_batch, M_X]) # alarm: use placeholder, but not variable\n",
    "    Y_tr = tf.placeholder(dtype=tf.float32, shape=[size_batch, M_Y])\n",
    "    X_vl = tf.constant(valid_dataset)\n",
    "    X_ts = tf.constant(test_dataset)\n",
    "    \n",
    "    # variables to train\n",
    "    W0 = tf.Variable(tf.truncated_normal([M_X, M_H]))  # alarm: initilize them\n",
    "    b0 = tf.Variable(tf.zeros([M_H]))\n",
    "    W1 = tf.Variable(tf.truncated_normal([M_H, M_Y]))\n",
    "    b1 = tf.Variable(tf.zeros([M_Y]))\n",
    "    \n",
    "    # loss\n",
    "    H = tf.nn.relu(tf.matmul(X_tr, W0) + b0)        # alarm: use matrix multiply\n",
    "    logits = tf.matmul(H, W1) + b1\n",
    "    #loss = tf.reduce_mean( tf.nn.softmax_cross_entropy_with_logits(logits=logits, labels=Y_tr) ) # original\n",
    "    loss = tf.reduce_mean( tf.nn.softmax_cross_entropy_with_logits(logits=logits, labels=Y_tr) ) + lambda_l2*(tf.nn.l2_loss(W0)+tf.nn.l2_loss(W1))\n",
    "                     \n",
    "    # optimizer\n",
    "    optimizer = tf.train.GradientDescentOptimizer(0.5).minimize(loss)   # give oprimizer a name\n",
    "    \n",
    "    # model preditction\n",
    "    Y_tr_hat = tf.nn.softmax(logits)\n",
    "    Y_vl_hat = tf.nn.softmax( tf.matmul(tf.nn.relu(tf.matmul(X_vl, W0) + b0), W1) + b1 )\n",
    "    Y_ts_hat = tf.nn.softmax( tf.matmul(tf.nn.relu(tf.matmul(X_ts, W0) + b0), W1) + b1 )\n",
    "    \n",
    "# next, we need a session\n",
    "num_steps = 3001\n",
    "step_plot = []\n",
    "acc_tr = []\n",
    "acc_vl = []\n",
    "loss_tr = []\n",
    "                     \n",
    "with tf.Session(graph=graph) as session:\n",
    "    # initilize variables\n",
    "    tf.global_variables_initializer().run()\n",
    "     \n",
    "    # loop\n",
    "    for step in range(num_steps):\n",
    "        # get batch data\n",
    "        offset = (step * size_batch) % (train_dataset.shape[0] - size_batch)\n",
    "        X_batch = train_dataset[offset:offset+size_batch, :]\n",
    "        Y_batch = train_labels[offset:offset+size_batch, :]\n",
    "        feed_dict = {X_tr: X_batch, Y_tr: Y_batch}\n",
    "        [_, l, predictions] = session.run([optimizer, loss, Y_tr_hat], feed_dict= feed_dict)\n",
    "        if (step % 500 == 0):\n",
    "            step_plot.append(step)\n",
    "            loss_tr.append(l)\n",
    "            acc_tr.append(accuracy(predictions, Y_batch))\n",
    "            acc_vl.append(accuracy(Y_vl_hat.eval(), valid_labels))\n",
    "            print(\"Minibatch loss at step %d: %f\" % (step, l))\n",
    "            print(\"Minibatch accuracy: %.1f%%\" % accuracy(predictions, Y_batch))\n",
    "            print(\"Validation accuracy: %.1f%%\" % accuracy(Y_vl_hat.eval(), valid_labels))\n",
    "    print(\"Test accuracy: %.1f%%\" % accuracy(Y_ts_hat.eval(), test_labels))\n",
    "\n",
    "# plot\n",
    "plt.subplot(2,1,1)\n",
    "plt.plot(step_plot, loss_tr)\n",
    "plt.title('training loss')\n",
    "plt.subplot(2,1,2)\n",
    "plt.plot(step_plot, acc_tr)\n",
    "plt.plot(step_plot, acc_vl)\n",
    "plt.legend(['train','validate'])\n",
    "plt.title('accuracty')"
   ]
  },
  {
   "cell_type": "markdown",
   "metadata": {
    "colab_type": "text",
    "id": "na8xX2yHZzNF"
   },
   "source": [
    "---\n",
    "Problem 2\n",
    "---------\n",
    "Let's demonstrate an extreme case of overfitting. Restrict your training data to just a few batches. What happens?\n",
    "\n",
    "---"
   ]
  },
  {
   "cell_type": "code",
   "execution_count": 6,
   "metadata": {},
   "outputs": [
    {
     "name": "stdout",
     "output_type": "stream",
     "text": [
      "Minibatch loss at step 0: 320.899048\n",
      "Minibatch accuracy: 7.0%\n",
      "Validation accuracy: 29.3%\n",
      "Minibatch loss at step 500: 0.000000\n",
      "Minibatch accuracy: 100.0%\n",
      "Validation accuracy: 64.4%\n",
      "Minibatch loss at step 1000: 0.000000\n",
      "Minibatch accuracy: 100.0%\n",
      "Validation accuracy: 64.4%\n",
      "Minibatch loss at step 1500: 0.000000\n",
      "Minibatch accuracy: 100.0%\n",
      "Validation accuracy: 64.4%\n",
      "Minibatch loss at step 2000: 0.000000\n",
      "Minibatch accuracy: 100.0%\n",
      "Validation accuracy: 64.4%\n",
      "Minibatch loss at step 2500: 0.000000\n",
      "Minibatch accuracy: 100.0%\n",
      "Validation accuracy: 64.4%\n",
      "Minibatch loss at step 3000: 0.000000\n",
      "Minibatch accuracy: 100.0%\n",
      "Validation accuracy: 64.4%\n",
      "Test accuracy: 71.6%\n"
     ]
    },
    {
     "data": {
      "text/plain": [
       "<matplotlib.text.Text at 0x7f9ffc2b0320>"
      ]
     },
     "execution_count": 6,
     "metadata": {},
     "output_type": "execute_result"
    },
    {
     "data": {
      "image/png": "[encoded data removed]",
      "text/plain": [
       "<matplotlib.figure.Figure at 0x7f9ffc4c3860>"
      ]
     },
     "metadata": {},
     "output_type": "display_data"
    }
   ],
   "source": [
    "# write the computational graph from scrach\n",
    "size_batch = 128\n",
    "M_X = train_dataset.shape[1]\n",
    "M_H = 1024\n",
    "M_Y = train_labels.shape[1]\n",
    "lambda_l2 = 0.000\n",
    "\n",
    "\n",
    "# first, we need a grpah\n",
    "graph = tf.Graph()\n",
    "with graph.as_default():\n",
    "    # input data\n",
    "    X_tr = tf.placeholder(dtype=tf.float32, shape=[size_batch, M_X]) # alarm: use placeholder, but not variable\n",
    "    Y_tr = tf.placeholder(dtype=tf.float32, shape=[size_batch, M_Y])\n",
    "    X_vl = tf.constant(valid_dataset)\n",
    "    X_ts = tf.constant(test_dataset)\n",
    "    \n",
    "    # variables to train\n",
    "    W0 = tf.Variable(tf.truncated_normal([M_X, M_H]))  # alarm: initilize them\n",
    "    b0 = tf.Variable(tf.zeros([M_H]))\n",
    "    W1 = tf.Variable(tf.truncated_normal([M_H, M_Y]))\n",
    "    b1 = tf.Variable(tf.zeros([M_Y]))\n",
    "    \n",
    "    # loss\n",
    "    H = tf.nn.relu(tf.matmul(X_tr, W0) + b0)        # alarm: use matrix multiply\n",
    "    logits = tf.matmul(H, W1) + b1\n",
    "    #loss = tf.reduce_mean( tf.nn.softmax_cross_entropy_with_logits(logits=logits, labels=Y_tr) ) # original\n",
    "    loss = tf.reduce_mean( tf.nn.softmax_cross_entropy_with_logits(logits=logits, labels=Y_tr) ) \\\n",
    "    + lambda_l2*(tf.nn.l2_loss(W0)+tf.nn.l2_loss(W1))\n",
    "                     \n",
    "    # optimizer\n",
    "    optimizer = tf.train.GradientDescentOptimizer(0.5).minimize(loss)   # give oprimizer a name\n",
    "    \n",
    "    # model preditction\n",
    "    Y_tr_hat = tf.nn.softmax(logits)\n",
    "    Y_vl_hat = tf.nn.softmax( tf.matmul(tf.nn.relu(tf.matmul(X_vl, W0) + b0), W1) + b1 )\n",
    "    Y_ts_hat = tf.nn.softmax( tf.matmul(tf.nn.relu(tf.matmul(X_ts, W0) + b0), W1) + b1 )\n",
    "    \n",
    "# next, we need a session\n",
    "num_steps = 3001\n",
    "step_plot = []\n",
    "acc_tr = []\n",
    "acc_vl = []\n",
    "loss_tr = []\n",
    "                     \n",
    "with tf.Session(graph=graph) as session:\n",
    "    # initilize variables\n",
    "    tf.global_variables_initializer().run()\n",
    "     \n",
    "    # loop\n",
    "    for step in range(num_steps):\n",
    "        # get batch data\n",
    "        offset = (step * size_batch) % (256 - size_batch)\n",
    "        X_batch = train_dataset[offset:offset+size_batch, :]\n",
    "        Y_batch = train_labels[offset:offset+size_batch, :]\n",
    "        feed_dict = {X_tr: X_batch, Y_tr: Y_batch}\n",
    "        [_, l, predictions] = session.run([optimizer, loss, Y_tr_hat], feed_dict= feed_dict)\n",
    "        if (step % 500 == 0):\n",
    "            step_plot.append(step)\n",
    "            loss_tr.append(l)\n",
    "            acc_tr.append(accuracy(predictions, Y_batch))\n",
    "            acc_vl.append(accuracy(Y_vl_hat.eval(), valid_labels))\n",
    "            print(\"Minibatch loss at step %d: %f\" % (step, l))\n",
    "            print(\"Minibatch accuracy: %.1f%%\" % accuracy(predictions, Y_batch))\n",
    "            print(\"Validation accuracy: %.1f%%\" % accuracy(Y_vl_hat.eval(), valid_labels))\n",
    "    print(\"Test accuracy: %.1f%%\" % accuracy(Y_ts_hat.eval(), test_labels))\n",
    "\n",
    "# plot\n",
    "plt.subplot(2,1,1)\n",
    "plt.plot(step_plot, loss_tr)\n",
    "plt.title('training loss')\n",
    "plt.subplot(2,1,2)\n",
    "plt.plot(step_plot, acc_tr)\n",
    "plt.plot(step_plot, acc_vl)\n",
    "plt.legend(['train','validate'])\n",
    "plt.title('accuracty')"
   ]
  },
  {
   "cell_type": "markdown",
   "metadata": {
    "colab_type": "text",
    "id": "ww3SCBUdlkRc"
   },
   "source": [
    "---\n",
    "Problem 3\n",
    "---------\n",
    "Introduce Dropout on the hidden layer of the neural network. Remember: Dropout should only be introduced during training, not evaluation, otherwise your evaluation results would be stochastic as well. TensorFlow provides `nn.dropout()` for that, but you have to make sure it's only inserted during training.\n",
    "\n",
    "What happens to our extreme overfitting case?\n",
    "\n",
    "---"
   ]
  },
  {
   "cell_type": "code",
   "execution_count": 7,
   "metadata": {},
   "outputs": [
    {
     "name": "stdout",
     "output_type": "stream",
     "text": [
      "Minibatch loss at step 0: 789.616455\n",
      "Minibatch accuracy: 13.3%\n",
      "Validation accuracy: 25.3%\n",
      "Minibatch loss at step 500: 191.996414\n",
      "Minibatch accuracy: 100.0%\n",
      "Validation accuracy: 76.3%\n",
      "Minibatch loss at step 1000: 116.484398\n",
      "Minibatch accuracy: 100.0%\n",
      "Validation accuracy: 76.9%\n",
      "Minibatch loss at step 1500: 70.655579\n",
      "Minibatch accuracy: 100.0%\n",
      "Validation accuracy: 76.9%\n",
      "Minibatch loss at step 2000: 42.852165\n",
      "Minibatch accuracy: 100.0%\n",
      "Validation accuracy: 76.8%\n",
      "Minibatch loss at step 2500: 25.989296\n",
      "Minibatch accuracy: 100.0%\n",
      "Validation accuracy: 76.6%\n",
      "Minibatch loss at step 3000: 15.762994\n",
      "Minibatch accuracy: 100.0%\n",
      "Validation accuracy: 76.6%\n",
      "Test accuracy: 84.1%\n"
     ]
    },
    {
     "data": {
      "text/plain": [
       "<matplotlib.text.Text at 0x7f9ff7795e48>"
      ]
     },
     "execution_count": 7,
     "metadata": {},
     "output_type": "execute_result"
    },
    {
     "data": {
      "image/png": "[encoded data removed]",
      "text/plain": [
       "<matplotlib.figure.Figure at 0x7f9ffc271a90>"
      ]
     },
     "metadata": {},
     "output_type": "display_data"
    }
   ],
   "source": [
    "# write the computational graph from scrach\n",
    "size_batch = 128\n",
    "M_X = train_dataset.shape[1]\n",
    "M_H = 1024\n",
    "M_Y = train_labels.shape[1]\n",
    "lambda_l2 = 0.001\n",
    "\n",
    "\n",
    "# first, we need a grpah\n",
    "graph = tf.Graph()\n",
    "with graph.as_default():\n",
    "    # input data\n",
    "    X_tr = tf.placeholder(dtype=tf.float32, shape=[size_batch, M_X]) # alarm: use placeholder, but not variable\n",
    "    Y_tr = tf.placeholder(dtype=tf.float32, shape=[size_batch, M_Y])\n",
    "    X_vl = tf.constant(valid_dataset)\n",
    "    X_ts = tf.constant(test_dataset)\n",
    "    \n",
    "    # variables to train\n",
    "    W0 = tf.Variable(tf.truncated_normal([M_X, M_H]))  # alarm: initilize them\n",
    "    b0 = tf.Variable(tf.zeros([M_H]))\n",
    "    W1 = tf.Variable(tf.truncated_normal([M_H, M_Y]))\n",
    "    b1 = tf.Variable(tf.zeros([M_Y]))\n",
    "    \n",
    "    # loss\n",
    "    H = tf.nn.dropout(tf.nn.relu(tf.matmul(X_tr, W0) + b0), keep_prob=0.5)        # alarm: use matrix multiply\n",
    "    logits = tf.matmul(H, W1) + b1\n",
    "    #loss = tf.reduce_mean( tf.nn.softmax_cross_entropy_with_logits(logits=logits, labels=Y_tr) ) # original\n",
    "    loss = tf.reduce_mean( tf.nn.softmax_cross_entropy_with_logits(logits=logits, labels=Y_tr) ) \\\n",
    "    + lambda_l2*(tf.nn.l2_loss(W0)+tf.nn.l2_loss(W1))\n",
    "                     \n",
    "    # optimizer\n",
    "    optimizer = tf.train.GradientDescentOptimizer(0.5).minimize(loss)   # give oprimizer a name\n",
    "    \n",
    "    # model preditction\n",
    "    Y_tr_hat = tf.nn.softmax(logits)\n",
    "    Y_vl_hat = tf.nn.softmax( tf.matmul(tf.nn.relu(tf.matmul(X_vl, W0) + b0), W1) + b1 )\n",
    "    Y_ts_hat = tf.nn.softmax( tf.matmul(tf.nn.relu(tf.matmul(X_ts, W0) + b0), W1) + b1 )\n",
    "    \n",
    "# next, we need a session\n",
    "num_steps = 3001\n",
    "step_plot = []\n",
    "acc_tr = []\n",
    "acc_vl = []\n",
    "loss_tr = []\n",
    "                     \n",
    "with tf.Session(graph=graph) as session:\n",
    "    # initilize variables\n",
    "    tf.global_variables_initializer().run()\n",
    "     \n",
    "    # loop\n",
    "    for step in range(num_steps):\n",
    "        # get batch data\n",
    "        offset = (step * size_batch) % (512 - size_batch)\n",
    "        X_batch = train_dataset[offset:offset+size_batch, :]\n",
    "        Y_batch = train_labels[offset:offset+size_batch, :]\n",
    "        feed_dict = {X_tr: X_batch, Y_tr: Y_batch}\n",
    "        [_, l, predictions] = session.run([optimizer, loss, Y_tr_hat], feed_dict= feed_dict)\n",
    "        if (step % 500 == 0):\n",
    "            step_plot.append(step)\n",
    "            loss_tr.append(l)\n",
    "            acc_tr.append(accuracy(predictions, Y_batch))\n",
    "            acc_vl.append(accuracy(Y_vl_hat.eval(), valid_labels))\n",
    "            print(\"Minibatch loss at step %d: %f\" % (step, l))\n",
    "            print(\"Minibatch accuracy: %.1f%%\" % accuracy(predictions, Y_batch))\n",
    "            print(\"Validation accuracy: %.1f%%\" % accuracy(Y_vl_hat.eval(), valid_labels))\n",
    "    print(\"Test accuracy: %.1f%%\" % accuracy(Y_ts_hat.eval(), test_labels))\n",
    "\n",
    "# plot\n",
    "plt.subplot(2,1,1)\n",
    "plt.plot(step_plot, loss_tr)\n",
    "plt.title('training loss')\n",
    "plt.subplot(2,1,2)\n",
    "plt.plot(step_plot, acc_tr)\n",
    "plt.plot(step_plot, acc_vl)\n",
    "plt.legend(['train','validate'])\n",
    "plt.title('accuracty')"
   ]
  },
  {
   "cell_type": "markdown",
   "metadata": {
    "colab_type": "text",
    "id": "-b1hTz3VWZjw"
   },
   "source": [
    "---\n",
    "Problem 4\n",
    "---------\n",
    "\n",
    "Try to get the best performance you can using a multi-layer model! The best reported test accuracy using a deep network is [97.1%](http://yaroslavvb.blogspot.com/2011/09/notmnist-dataset.html?showComment=1391023266211#c8758720086795711595).\n",
    "\n",
    "One avenue you can explore is to add multiple layers.\n",
    "\n",
    "Another one is to use learning rate decay:\n",
    "\n",
    "    global_step = tf.Variable(0)  # count the number of steps taken.\n",
    "    learning_rate = tf.train.exponential_decay(0.5, global_step, ...)\n",
    "    optimizer = tf.train.GradientDescentOptimizer(learning_rate).minimize(loss, global_step=global_step)\n",
    " \n",
    " ---\n"
   ]
  },
  {
   "cell_type": "code",
   "execution_count": 20,
   "metadata": {},
   "outputs": [
    {
     "name": "stdout",
     "output_type": "stream",
     "text": [
      "step 0: learing rate is 0.499885\n",
      "Minibatch loss at step 0: 2.748219\n",
      "Minibatch accuracy: 13.3%\n",
      "Validation accuracy: 34.8%\n",
      "step 500: learing rate is 0.445523\n",
      "Minibatch loss at step 500: 0.845722\n",
      "Minibatch accuracy: 84.4%\n",
      "Validation accuracy: 85.9%\n",
      "step 1000: learing rate is 0.397073\n",
      "Minibatch loss at step 1000: 0.693466\n",
      "Minibatch accuracy: 85.2%\n",
      "Validation accuracy: 87.2%\n",
      "step 1500: learing rate is 0.353891\n",
      "Minibatch loss at step 1500: 0.704418\n",
      "Minibatch accuracy: 83.2%\n",
      "Validation accuracy: 87.8%\n",
      "step 2000: learing rate is 0.315406\n",
      "Minibatch loss at step 2000: 0.514483\n",
      "Minibatch accuracy: 89.5%\n",
      "Validation accuracy: 87.9%\n",
      "step 2500: learing rate is 0.281106\n",
      "Minibatch loss at step 2500: 0.615505\n",
      "Minibatch accuracy: 86.3%\n",
      "Validation accuracy: 88.6%\n",
      "step 3000: learing rate is 0.250536\n",
      "Minibatch loss at step 3000: 0.530588\n",
      "Minibatch accuracy: 89.1%\n",
      "Validation accuracy: 88.7%\n",
      "step 3500: learing rate is 0.223290\n",
      "Minibatch loss at step 3500: 0.415282\n",
      "Minibatch accuracy: 91.0%\n",
      "Validation accuracy: 89.4%\n",
      "step 4000: learing rate is 0.199008\n",
      "Minibatch loss at step 4000: 0.442768\n",
      "Minibatch accuracy: 91.0%\n",
      "Validation accuracy: 89.3%\n",
      "step 4500: learing rate is 0.177366\n",
      "Minibatch loss at step 4500: 0.411733\n",
      "Minibatch accuracy: 90.2%\n",
      "Validation accuracy: 89.6%\n",
      "step 5000: learing rate is 0.158077\n",
      "Minibatch loss at step 5000: 0.427742\n",
      "Minibatch accuracy: 89.5%\n",
      "Validation accuracy: 89.6%\n",
      "step 5500: learing rate is 0.140887\n",
      "Minibatch loss at step 5500: 0.467139\n",
      "Minibatch accuracy: 91.4%\n",
      "Validation accuracy: 89.7%\n",
      "step 6000: learing rate is 0.125565\n",
      "Minibatch loss at step 6000: 0.510431\n",
      "Minibatch accuracy: 85.5%\n",
      "Validation accuracy: 89.8%\n",
      "step 6500: learing rate is 0.111910\n",
      "Minibatch loss at step 6500: 0.349220\n",
      "Minibatch accuracy: 91.8%\n",
      "Validation accuracy: 90.1%\n",
      "step 7000: learing rate is 0.099740\n",
      "Minibatch loss at step 7000: 0.487509\n",
      "Minibatch accuracy: 87.1%\n",
      "Validation accuracy: 90.2%\n",
      "step 7500: learing rate is 0.088893\n",
      "Minibatch loss at step 7500: 0.440738\n",
      "Minibatch accuracy: 89.1%\n",
      "Validation accuracy: 90.1%\n",
      "step 8000: learing rate is 0.079226\n",
      "Minibatch loss at step 8000: 0.338546\n",
      "Minibatch accuracy: 92.6%\n",
      "Validation accuracy: 90.0%\n",
      "step 8500: learing rate is 0.070611\n",
      "Minibatch loss at step 8500: 0.409532\n",
      "Minibatch accuracy: 90.6%\n",
      "Validation accuracy: 90.1%\n",
      "step 9000: learing rate is 0.062932\n",
      "Minibatch loss at step 9000: 0.380430\n",
      "Minibatch accuracy: 91.0%\n",
      "Validation accuracy: 90.2%\n",
      "step 9500: learing rate is 0.056088\n",
      "Minibatch loss at step 9500: 0.447691\n",
      "Minibatch accuracy: 90.6%\n",
      "Validation accuracy: 90.3%\n",
      "step 10000: learing rate is 0.049988\n",
      "Minibatch loss at step 10000: 0.416316\n",
      "Minibatch accuracy: 90.2%\n",
      "Validation accuracy: 90.2%\n",
      "Test accuracy: 95.4%\n"
     ]
    },
    {
     "data": {
      "text/plain": [
       "<matplotlib.text.Text at 0x7f9fb965f8d0>"
      ]
     },
     "execution_count": 20,
     "metadata": {},
     "output_type": "execute_result"
    },
    {
     "data": {
      "image/png": "[encoded data removed]",
      "text/plain": [
       "<matplotlib.figure.Figure at 0x7f9fec58d080>"
      ]
     },
     "metadata": {},
     "output_type": "display_data"
    }
   ],
   "source": [
    "# write the computational graph from scrach\n",
    "size_batch = 256\n",
    "M_X = train_dataset.shape[1]\n",
    "M_H0 = 512\n",
    "M_H1 = 128\n",
    "M_Y = train_labels.shape[1]\n",
    "lambda_l2 = 0.001\n",
    "\n",
    "\n",
    "# first, we need a grpah\n",
    "graph = tf.Graph()\n",
    "with graph.as_default():\n",
    "    \n",
    "    # global step for rate decay\n",
    "    global_step = tf.Variable(0)  # count the number of steps taken.\n",
    "    learning_rate = tf.train.exponential_decay(0.5, global_step, decay_steps=10000, decay_rate=0.1)\n",
    "\n",
    "    \n",
    "    # input data\n",
    "    X_tr = tf.placeholder(dtype=tf.float32, shape=[size_batch, M_X]) # alarm: use placeholder, but not variable\n",
    "    Y_tr = tf.placeholder(dtype=tf.float32, shape=[size_batch, M_Y])\n",
    "    X_vl = tf.constant(valid_dataset)\n",
    "    X_ts = tf.constant(test_dataset)\n",
    "    \n",
    "    # variables to train\n",
    "    W0 = tf.Variable(tf.truncated_normal([M_X, M_H0], stddev=0.05))  # alarm: initilize them, make stddev small\n",
    "    b0 = tf.Variable(tf.zeros([M_H0]))\n",
    "    W1 = tf.Variable(tf.truncated_normal([M_H0, M_H1] , stddev=0.05))\n",
    "    b1 = tf.Variable(tf.zeros([M_H1]))\n",
    "    W2 = tf.Variable(tf.truncated_normal([M_H1, M_Y], stddev=0.05))\n",
    "    b2 = tf.Variable(tf.zeros([M_Y]))\n",
    "    \n",
    "    # loss\n",
    "    H0 = tf.nn.dropout(tf.nn.relu(tf.matmul(X_tr, W0) + b0), keep_prob=0.7)        # alarm: use matrix multiply\n",
    "    H1 = tf.nn.dropout(tf.nn.relu(tf.matmul(H0, W1) + b1), keep_prob=0.7)        # alarm: use matrix multiply\n",
    "    logits = tf.matmul(H1, W2) + b2\n",
    "    #loss = tf.reduce_mean( tf.nn.softmax_cross_entropy_with_logits(logits=logits, labels=Y_tr) ) # original\n",
    "    loss = tf.reduce_mean( tf.nn.softmax_cross_entropy_with_logits(logits=logits, labels=Y_tr) ) \\\n",
    "    + lambda_l2*(tf.nn.l2_loss(W0)+tf.nn.l2_loss(W1)+tf.nn.l2_loss(W2))\n",
    "                     \n",
    "    # optimizer\n",
    "    optimizer = tf.train.GradientDescentOptimizer(learning_rate).minimize(loss, global_step=global_step)   # give oprimizer a name\n",
    "    \n",
    "    # model preditction\n",
    "    Y_tr_hat = tf.nn.softmax(logits)\n",
    "    Y_vl_hat = tf.nn.softmax( tf.matmul(tf.nn.relu(tf.matmul(tf.nn.relu(tf.matmul(X_vl, W0) + b0), W1) + b1), W2) + b2)\n",
    "    Y_ts_hat = tf.nn.softmax( tf.matmul(tf.nn.relu(tf.matmul(tf.nn.relu(tf.matmul(X_ts, W0) + b0), W1) + b1), W2) + b2)\n",
    "    \n",
    "# next, we need a session\n",
    "num_steps = 10001\n",
    "step_plot = []\n",
    "acc_tr = []\n",
    "acc_vl = []\n",
    "loss_tr = []\n",
    "                     \n",
    "with tf.Session(graph=graph) as session:\n",
    "    # initilize variables\n",
    "    tf.global_variables_initializer().run()\n",
    "     \n",
    "    # loop\n",
    "    for step in range(num_steps):\n",
    "        # get batch data\n",
    "        offset = (step * size_batch) % (train_dataset.shape[0] - size_batch)\n",
    "        X_batch = train_dataset[offset:offset+size_batch, :]\n",
    "        Y_batch = train_labels[offset:offset+size_batch, :]\n",
    "        feed_dict = {X_tr: X_batch, Y_tr: Y_batch}\n",
    "        [_, l, predictions] = session.run([optimizer, loss, Y_tr_hat], feed_dict= feed_dict)\n",
    "        if (step % 500 == 0):\n",
    "            step_plot.append(step)\n",
    "            loss_tr.append(l)\n",
    "            acc_tr.append(accuracy(predictions, Y_batch))\n",
    "            acc_vl.append(accuracy(Y_vl_hat.eval(), valid_labels))\n",
    "            print(\"step {}: learing rate is {:<5f}\".format(step, learning_rate.eval()))\n",
    "            print(\"Minibatch loss at step %d: %f\" % (step, l))\n",
    "            print(\"Minibatch accuracy: %.1f%%\" % accuracy(predictions, Y_batch))\n",
    "            print(\"Validation accuracy: %.1f%%\" % accuracy(Y_vl_hat.eval(), valid_labels))\n",
    "    print(\"Test accuracy: %.1f%%\" % accuracy(Y_ts_hat.eval(), test_labels))\n",
    "\n",
    "# plot\n",
    "plt.subplot(2,1,1)\n",
    "plt.plot(step_plot, loss_tr)\n",
    "plt.title('training loss')\n",
    "plt.subplot(2,1,2)\n",
    "plt.plot(step_plot, acc_tr)\n",
    "plt.plot(step_plot, acc_vl)\n",
    "plt.legend(['train','validate'])\n",
    "plt.title('accuracty')"
   ]
  },
  {
   "cell_type": "code",
   "execution_count": null,
   "metadata": {
    "collapsed": true
   },
   "outputs": [],
   "source": []
  }
 ],
 "metadata": {
  "colab": {
   "default_view": {},
   "name": "3_regularization.ipynb",
   "provenance": [],
   "version": "0.3.2",
   "views": {}
  },
  "kernelspec": {
   "display_name": "Python 3",
   "language": "python",
   "name": "python3"
  },
  "language_info": {
   "codemirror_mode": {
    "name": "ipython",
    "version": 3
   },
   "file_extension": ".py",
   "mimetype": "text/x-python",
   "name": "python",
   "nbconvert_exporter": "python",
   "pygments_lexer": "ipython3",
   "version": "3.6.1"
  }
 },
 "nbformat": 4,
 "nbformat_minor": 1
}
