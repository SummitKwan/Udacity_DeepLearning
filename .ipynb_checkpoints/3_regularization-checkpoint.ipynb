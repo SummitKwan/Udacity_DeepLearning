{
 "cells": [
  {
   "cell_type": "markdown",
   "metadata": {
    "colab_type": "text",
    "id": "kR-4eNdK6lYS"
   },
   "source": [
    "Deep Learning\n",
    "=============\n",
    "\n",
    "Assignment 3\n",
    "------------\n",
    "\n",
    "Previously in `2_fullyconnected.ipynb`, you trained a logistic regression and a neural network model.\n",
    "\n",
    "The goal of this assignment is to explore regularization techniques."
   ]
  },
  {
   "cell_type": "code",
   "execution_count": 1,
   "metadata": {
    "cellView": "both",
    "colab": {
     "autoexec": {
      "startup": false,
      "wait_interval": 0
     }
    },
    "colab_type": "code",
    "id": "JLpLa8Jt7Vu4"
   },
   "outputs": [
    {
     "name": "stderr",
     "output_type": "stream",
     "text": [
      "/Users/Summit/anaconda3/lib/python3.6/importlib/_bootstrap.py:205: RuntimeWarning: compiletime version 3.5 of module 'tensorflow.python.framework.fast_tensor_util' does not match runtime version 3.6\n",
      "  return f(*args, **kwds)\n"
     ]
    }
   ],
   "source": [
    "# These are all the modules we'll be using later. Make sure you can import them\n",
    "# before proceeding further.\n",
    "from __future__ import print_function\n",
    "import os\n",
    "import numpy as np\n",
    "import tensorflow as tf\n",
    "from six.moves import cPickle as pickle\n",
    "import matplotlib.pyplot as plt\n",
    "%matplotlib inline"
   ]
  },
  {
   "cell_type": "markdown",
   "metadata": {
    "colab_type": "text",
    "id": "1HrCK6e17WzV"
   },
   "source": [
    "First reload the data we generated in `1_notmnist.ipynb`."
   ]
  },
  {
   "cell_type": "code",
   "execution_count": 2,
   "metadata": {
    "cellView": "both",
    "colab": {
     "autoexec": {
      "startup": false,
      "wait_interval": 0
     },
     "output_extras": [
      {
       "item_id": 1
      }
     ]
    },
    "colab_type": "code",
    "executionInfo": {
     "elapsed": 11777,
     "status": "ok",
     "timestamp": 1449849322348,
     "user": {
      "color": "",
      "displayName": "",
      "isAnonymous": false,
      "isMe": true,
      "permissionId": "",
      "photoUrl": "",
      "sessionId": "0",
      "userId": ""
     },
     "user_tz": 480
    },
    "id": "y3-cj1bpmuxc",
    "outputId": "e03576f1-ebbe-4838-c388-f1777bcc9873"
   },
   "outputs": [
    {
     "name": "stdout",
     "output_type": "stream",
     "text": [
      "Training set (195125, 28, 28) (195125,)\n",
      "Validation set (9828, 28, 28) (9828,)\n",
      "Test set (10000, 28, 28) (10000,)\n"
     ]
    }
   ],
   "source": [
    "data_root = './support_data'\n",
    "# pickle_file = os.path.join(data_root, 'notMNIST.pickle')\n",
    "pickle_file = os.path.join(data_root, 'notMNIST_clean.pickle')\n",
    "\n",
    "\n",
    "\n",
    "with open(pickle_file, 'rb') as f:\n",
    "  save = pickle.load(f)\n",
    "  train_dataset = save['train_dataset']\n",
    "  train_labels = save['train_labels']\n",
    "  valid_dataset = save['valid_dataset']\n",
    "  valid_labels = save['valid_labels']\n",
    "  test_dataset = save['test_dataset']\n",
    "  test_labels = save['test_labels']\n",
    "  del save  # hint to help gc free up memory\n",
    "  print('Training set', train_dataset.shape, train_labels.shape)\n",
    "  print('Validation set', valid_dataset.shape, valid_labels.shape)\n",
    "  print('Test set', test_dataset.shape, test_labels.shape)"
   ]
  },
  {
   "cell_type": "markdown",
   "metadata": {
    "colab_type": "text",
    "id": "L7aHrm6nGDMB"
   },
   "source": [
    "Reformat into a shape that's more adapted to the models we're going to train:\n",
    "- data as a flat matrix,\n",
    "- labels as float 1-hot encodings."
   ]
  },
  {
   "cell_type": "code",
   "execution_count": 3,
   "metadata": {
    "cellView": "both",
    "colab": {
     "autoexec": {
      "startup": false,
      "wait_interval": 0
     },
     "output_extras": [
      {
       "item_id": 1
      }
     ]
    },
    "colab_type": "code",
    "executionInfo": {
     "elapsed": 11728,
     "status": "ok",
     "timestamp": 1449849322356,
     "user": {
      "color": "",
      "displayName": "",
      "isAnonymous": false,
      "isMe": true,
      "permissionId": "",
      "photoUrl": "",
      "sessionId": "0",
      "userId": ""
     },
     "user_tz": 480
    },
    "id": "IRSyYiIIGIzS",
    "outputId": "3f8996ee-3574-4f44-c953-5c8a04636582"
   },
   "outputs": [
    {
     "name": "stdout",
     "output_type": "stream",
     "text": [
      "Training set (195125, 784) (195125, 10)\n",
      "Validation set (9828, 784) (9828, 10)\n",
      "Test set (10000, 784) (10000, 10)\n"
     ]
    }
   ],
   "source": [
    "image_size = 28\n",
    "num_labels = 10\n",
    "\n",
    "def reformat(dataset, labels):\n",
    "  dataset = dataset.reshape((-1, image_size * image_size)).astype(np.float32)\n",
    "  # Map 1 to [0.0, 1.0, 0.0 ...], 2 to [0.0, 0.0, 1.0 ...]\n",
    "  labels = (np.arange(num_labels) == labels[:,None]).astype(np.float32)\n",
    "  return dataset, labels\n",
    "train_dataset, train_labels = reformat(train_dataset, train_labels)\n",
    "valid_dataset, valid_labels = reformat(valid_dataset, valid_labels)\n",
    "test_dataset, test_labels = reformat(test_dataset, test_labels)\n",
    "print('Training set', train_dataset.shape, train_labels.shape)\n",
    "print('Validation set', valid_dataset.shape, valid_labels.shape)\n",
    "print('Test set', test_dataset.shape, test_labels.shape)"
   ]
  },
  {
   "cell_type": "code",
   "execution_count": 4,
   "metadata": {
    "cellView": "both",
    "colab": {
     "autoexec": {
      "startup": false,
      "wait_interval": 0
     }
    },
    "colab_type": "code",
    "collapsed": true,
    "id": "RajPLaL_ZW6w"
   },
   "outputs": [],
   "source": [
    "def accuracy(predictions, labels):\n",
    "  return (100.0 * np.sum(np.argmax(predictions, 1) == np.argmax(labels, 1))\n",
    "          / predictions.shape[0])"
   ]
  },
  {
   "cell_type": "markdown",
   "metadata": {
    "colab_type": "text",
    "id": "sgLbUAQ1CW-1"
   },
   "source": [
    "---\n",
    "Problem 1\n",
    "---------\n",
    "\n",
    "Introduce and tune L2 regularization for both logistic and neural network models. Remember that L2 amounts to adding a penalty on the norm of the weights to the loss. In TensorFlow, you can compute the L2 loss for a tensor `t` using `nn.l2_loss(t)`. The right amount of regularization should improve your validation / test accuracy.\n",
    "\n",
    "---"
   ]
  },
  {
   "cell_type": "code",
   "execution_count": 5,
   "metadata": {},
   "outputs": [
    {
     "name": "stdout",
     "output_type": "stream",
     "text": [
      "Minibatch loss at step 0: 635.224121\n",
      "Minibatch accuracy: 10.2%\n",
      "Validation accuracy: 32.0%\n",
      "Minibatch loss at step 500: 193.359467\n",
      "Minibatch accuracy: 86.7%\n",
      "Validation accuracy: 80.9%\n",
      "Minibatch loss at step 1000: 115.385483\n",
      "Minibatch accuracy: 81.2%\n",
      "Validation accuracy: 81.2%\n",
      "Minibatch loss at step 1500: 69.145660\n",
      "Minibatch accuracy: 77.3%\n",
      "Validation accuracy: 82.4%\n",
      "Minibatch loss at step 2000: 41.734482\n",
      "Minibatch accuracy: 84.4%\n",
      "Validation accuracy: 84.3%\n",
      "Minibatch loss at step 2500: 25.266275\n",
      "Minibatch accuracy: 89.8%\n",
      "Validation accuracy: 85.8%\n",
      "Minibatch loss at step 3000: 15.337799\n",
      "Minibatch accuracy: 90.6%\n",
      "Validation accuracy: 87.0%\n",
      "Test accuracy: 93.0%\n"
     ]
    },
    {
     "data": {
      "text/plain": [
       "Text(0.5,1,'accuracty')"
      ]
     },
     "execution_count": 5,
     "metadata": {},
     "output_type": "execute_result"
    },
    {
     "data": {
      "image/png": "[encoded data removed]",
      "text/plain": [
       "<matplotlib.figure.Figure at 0x1821e5f5c0>"
      ]
     },
     "metadata": {},
     "output_type": "display_data"
    }
   ],
   "source": [
    "# write the computational graph from scrach\n",
    "size_batch = 128\n",
    "M_X = train_dataset.shape[1]\n",
    "M_H = 1024\n",
    "M_Y = train_labels.shape[1]\n",
    "lambda_l2 = 0.001\n",
    "\n",
    "\n",
    "# first, we need a grpah\n",
    "graph = tf.Graph()\n",
    "with graph.as_default():\n",
    "    # input data\n",
    "    X_tr = tf.placeholder(dtype=tf.float32, shape=[size_batch, M_X]) # alarm: use placeholder, but not variable\n",
    "    Y_tr = tf.placeholder(dtype=tf.float32, shape=[size_batch, M_Y])\n",
    "    X_vl = tf.constant(valid_dataset)\n",
    "    X_ts = tf.constant(test_dataset)\n",
    "    \n",
    "    # variables to train\n",
    "    W0 = tf.Variable(tf.truncated_normal([M_X, M_H]))  # alarm: initilize them\n",
    "    b0 = tf.Variable(tf.zeros([M_H]))\n",
    "    W1 = tf.Variable(tf.truncated_normal([M_H, M_Y]))\n",
    "    b1 = tf.Variable(tf.zeros([M_Y]))\n",
    "    \n",
    "    # loss\n",
    "    H = tf.nn.relu(tf.matmul(X_tr, W0) + b0)        # alarm: use matrix multiply\n",
    "    logits = tf.matmul(H, W1) + b1\n",
    "    #loss = tf.reduce_mean( tf.nn.softmax_cross_entropy_with_logits(logits=logits, labels=Y_tr) ) # original\n",
    "    loss = tf.reduce_mean( tf.nn.softmax_cross_entropy_with_logits(logits=logits, labels=Y_tr) ) + lambda_l2*(tf.nn.l2_loss(W0)+tf.nn.l2_loss(W1))\n",
    "                     \n",
    "    # optimizer\n",
    "    optimizer = tf.train.GradientDescentOptimizer(0.5).minimize(loss)   # give oprimizer a name\n",
    "    \n",
    "    # model preditction\n",
    "    Y_tr_hat = tf.nn.softmax(logits)\n",
    "    Y_vl_hat = tf.nn.softmax( tf.matmul(tf.nn.relu(tf.matmul(X_vl, W0) + b0), W1) + b1 )\n",
    "    Y_ts_hat = tf.nn.softmax( tf.matmul(tf.nn.relu(tf.matmul(X_ts, W0) + b0), W1) + b1 )\n",
    "    \n",
    "# next, we need a session\n",
    "num_steps = 3001\n",
    "step_plot = []\n",
    "acc_tr = []\n",
    "acc_vl = []\n",
    "loss_tr = []\n",
    "                     \n",
    "with tf.Session(graph=graph) as session:\n",
    "    # initilize variables\n",
    "    tf.global_variables_initializer().run()\n",
    "     \n",
    "    # loop\n",
    "    for step in range(num_steps):\n",
    "        # get batch data\n",
    "        offset = (step * size_batch) % (train_dataset.shape[0] - size_batch)\n",
    "        X_batch = train_dataset[offset:offset+size_batch, :]\n",
    "        Y_batch = train_labels[offset:offset+size_batch, :]\n",
    "        feed_dict = {X_tr: X_batch, Y_tr: Y_batch}\n",
    "        [_, l, predictions] = session.run([optimizer, loss, Y_tr_hat], feed_dict= feed_dict)\n",
    "        if (step % 500 == 0):\n",
    "            step_plot.append(step)\n",
    "            loss_tr.append(l)\n",
    "            acc_tr.append(accuracy(predictions, Y_batch))\n",
    "            acc_vl.append(accuracy(Y_vl_hat.eval(), valid_labels))\n",
    "            print(\"Minibatch loss at step %d: %f\" % (step, l))\n",
    "            print(\"Minibatch accuracy: %.1f%%\" % accuracy(predictions, Y_batch))\n",
    "            print(\"Validation accuracy: %.1f%%\" % accuracy(Y_vl_hat.eval(), valid_labels))\n",
    "    print(\"Test accuracy: %.1f%%\" % accuracy(Y_ts_hat.eval(), test_labels))\n",
    "\n",
    "# plot\n",
    "plt.subplot(2,1,1)\n",
    "plt.plot(step_plot, loss_tr)\n",
    "plt.title('training loss')\n",
    "plt.subplot(2,1,2)\n",
    "plt.plot(step_plot, acc_tr)\n",
    "plt.plot(step_plot, acc_vl)\n",
    "plt.legend(['train','validate'])\n",
    "plt.title('accuracty')"
   ]
  },
  {
   "cell_type": "markdown",
   "metadata": {
    "colab_type": "text",
    "id": "na8xX2yHZzNF"
   },
   "source": [
    "---\n",
    "Problem 2\n",
    "---------\n",
    "Let's demonstrate an extreme case of overfitting. Restrict your training data to just a few batches. What happens?\n",
    "\n",
    "---"
   ]
  },
  {
   "cell_type": "code",
   "execution_count": 6,
   "metadata": {},
   "outputs": [
    {
     "name": "stdout",
     "output_type": "stream",
     "text": [
      "Minibatch loss at step 0: 347.104248\n",
      "Minibatch accuracy: 10.9%\n",
      "Validation accuracy: 31.6%\n",
      "Minibatch loss at step 500: 0.000000\n",
      "Minibatch accuracy: 100.0%\n",
      "Validation accuracy: 65.5%\n",
      "Minibatch loss at step 1000: 0.000000\n",
      "Minibatch accuracy: 100.0%\n",
      "Validation accuracy: 65.5%\n",
      "Minibatch loss at step 1500: 0.000000\n",
      "Minibatch accuracy: 100.0%\n",
      "Validation accuracy: 65.5%\n",
      "Minibatch loss at step 2000: 0.000000\n",
      "Minibatch accuracy: 100.0%\n",
      "Validation accuracy: 65.5%\n",
      "Minibatch loss at step 2500: 0.000000\n",
      "Minibatch accuracy: 100.0%\n",
      "Validation accuracy: 65.5%\n",
      "Minibatch loss at step 3000: 0.000000\n",
      "Minibatch accuracy: 100.0%\n",
      "Validation accuracy: 65.5%\n",
      "Test accuracy: 73.4%\n"
     ]
    },
    {
     "data": {
      "text/plain": [
       "Text(0.5,1,'accuracty')"
      ]
     },
     "execution_count": 6,
     "metadata": {},
     "output_type": "execute_result"
    },
    {
     "data": {
      "image/png": "[encoded data removed]",
      "text/plain": [
       "<matplotlib.figure.Figure at 0x1819d82198>"
      ]
     },
     "metadata": {},
     "output_type": "display_data"
    }
   ],
   "source": [
    "# write the computational graph from scrach\n",
    "size_batch = 128\n",
    "M_X = train_dataset.shape[1]\n",
    "M_H = 1024\n",
    "M_Y = train_labels.shape[1]\n",
    "lambda_l2 = 0.000\n",
    "\n",
    "\n",
    "# first, we need a grpah\n",
    "graph = tf.Graph()\n",
    "with graph.as_default():\n",
    "    # input data\n",
    "    X_tr = tf.placeholder(dtype=tf.float32, shape=[size_batch, M_X]) # alarm: use placeholder, but not variable\n",
    "    Y_tr = tf.placeholder(dtype=tf.float32, shape=[size_batch, M_Y])\n",
    "    X_vl = tf.constant(valid_dataset)\n",
    "    X_ts = tf.constant(test_dataset)\n",
    "    \n",
    "    # variables to train\n",
    "    W0 = tf.Variable(tf.truncated_normal([M_X, M_H]))  # alarm: initilize them\n",
    "    b0 = tf.Variable(tf.zeros([M_H]))\n",
    "    W1 = tf.Variable(tf.truncated_normal([M_H, M_Y]))\n",
    "    b1 = tf.Variable(tf.zeros([M_Y]))\n",
    "    \n",
    "    # loss\n",
    "    H = tf.nn.relu(tf.matmul(X_tr, W0) + b0)        # alarm: use matrix multiply\n",
    "    logits = tf.matmul(H, W1) + b1\n",
    "    #loss = tf.reduce_mean( tf.nn.softmax_cross_entropy_with_logits(logits=logits, labels=Y_tr) ) # original\n",
    "    loss = tf.reduce_mean( tf.nn.softmax_cross_entropy_with_logits(logits=logits, labels=Y_tr) ) \\\n",
    "    + lambda_l2*(tf.nn.l2_loss(W0)+tf.nn.l2_loss(W1))\n",
    "                     \n",
    "    # optimizer\n",
    "    optimizer = tf.train.GradientDescentOptimizer(0.5).minimize(loss)   # give oprimizer a name\n",
    "    \n",
    "    # model preditction\n",
    "    Y_tr_hat = tf.nn.softmax(logits)\n",
    "    Y_vl_hat = tf.nn.softmax( tf.matmul(tf.nn.relu(tf.matmul(X_vl, W0) + b0), W1) + b1 )\n",
    "    Y_ts_hat = tf.nn.softmax( tf.matmul(tf.nn.relu(tf.matmul(X_ts, W0) + b0), W1) + b1 )\n",
    "    \n",
    "# next, we need a session\n",
    "num_steps = 3001\n",
    "step_plot = []\n",
    "acc_tr = []\n",
    "acc_vl = []\n",
    "loss_tr = []\n",
    "                     \n",
    "with tf.Session(graph=graph) as session:\n",
    "    # initilize variables\n",
    "    tf.global_variables_initializer().run()\n",
    "     \n",
    "    # loop\n",
    "    for step in range(num_steps):\n",
    "        # get batch data\n",
    "        offset = (step * size_batch) % (256 - size_batch)\n",
    "        X_batch = train_dataset[offset:offset+size_batch, :]\n",
    "        Y_batch = train_labels[offset:offset+size_batch, :]\n",
    "        feed_dict = {X_tr: X_batch, Y_tr: Y_batch}\n",
    "        [_, l, predictions] = session.run([optimizer, loss, Y_tr_hat], feed_dict= feed_dict)\n",
    "        if (step % 500 == 0):\n",
    "            step_plot.append(step)\n",
    "            loss_tr.append(l)\n",
    "            acc_tr.append(accuracy(predictions, Y_batch))\n",
    "            acc_vl.append(accuracy(Y_vl_hat.eval(), valid_labels))\n",
    "            print(\"Minibatch loss at step %d: %f\" % (step, l))\n",
    "            print(\"Minibatch accuracy: %.1f%%\" % accuracy(predictions, Y_batch))\n",
    "            print(\"Validation accuracy: %.1f%%\" % accuracy(Y_vl_hat.eval(), valid_labels))\n",
    "    print(\"Test accuracy: %.1f%%\" % accuracy(Y_ts_hat.eval(), test_labels))\n",
    "\n",
    "# plot\n",
    "plt.subplot(2,1,1)\n",
    "plt.plot(step_plot, loss_tr)\n",
    "plt.title('training loss')\n",
    "plt.subplot(2,1,2)\n",
    "plt.plot(step_plot, acc_tr)\n",
    "plt.plot(step_plot, acc_vl)\n",
    "plt.legend(['train','validate'])\n",
    "plt.title('accuracty')"
   ]
  },
  {
   "cell_type": "markdown",
   "metadata": {
    "colab_type": "text",
    "id": "ww3SCBUdlkRc"
   },
   "source": [
    "---\n",
    "Problem 3\n",
    "---------\n",
    "Introduce Dropout on the hidden layer of the neural network. Remember: Dropout should only be introduced during training, not evaluation, otherwise your evaluation results would be stochastic as well. TensorFlow provides `nn.dropout()` for that, but you have to make sure it's only inserted during training.\n",
    "\n",
    "What happens to our extreme overfitting case?\n",
    "\n",
    "---"
   ]
  },
  {
   "cell_type": "code",
   "execution_count": 9,
   "metadata": {},
   "outputs": [
    {
     "name": "stdout",
     "output_type": "stream",
     "text": [
      "Minibatch loss at step 0: 769.869446\n",
      "Minibatch accuracy: 9.4%\n",
      "Validation accuracy: 41.7%\n",
      "Minibatch loss at step 500: 192.101837\n",
      "Minibatch accuracy: 100.0%\n",
      "Validation accuracy: 76.2%\n",
      "Minibatch loss at step 1000: 116.556602\n",
      "Minibatch accuracy: 100.0%\n",
      "Validation accuracy: 76.7%\n",
      "Minibatch loss at step 1500: 70.767479\n",
      "Minibatch accuracy: 99.2%\n",
      "Validation accuracy: 76.5%\n",
      "Minibatch loss at step 2000: 42.892082\n",
      "Minibatch accuracy: 100.0%\n",
      "Validation accuracy: 76.9%\n",
      "Minibatch loss at step 2500: 26.014347\n",
      "Minibatch accuracy: 100.0%\n",
      "Validation accuracy: 77.0%\n",
      "Minibatch loss at step 3000: 15.777221\n",
      "Minibatch accuracy: 100.0%\n",
      "Validation accuracy: 77.1%\n",
      "Test accuracy: 84.7%\n"
     ]
    },
    {
     "data": {
      "text/plain": [
       "Text(0.5,1,'accuracty')"
      ]
     },
     "execution_count": 9,
     "metadata": {},
     "output_type": "execute_result"
    },
    {
     "data": {
      "image/png": "[encoded data removed]",
      "text/plain": [
       "<matplotlib.figure.Figure at 0x10d9c3400>"
      ]
     },
     "metadata": {},
     "output_type": "display_data"
    }
   ],
   "source": [
    "# write the computational graph from scrach\n",
    "size_batch = 128\n",
    "M_X = train_dataset.shape[1]\n",
    "M_H = 1024\n",
    "M_Y = train_labels.shape[1]\n",
    "lambda_l2 = 0.001\n",
    "\n",
    "\n",
    "# first, we need a grpah\n",
    "graph = tf.Graph()\n",
    "with graph.as_default():\n",
    "    # input data\n",
    "    X_tr = tf.placeholder(dtype=tf.float32, shape=[size_batch, M_X]) # alarm: use placeholder, but not variable\n",
    "    Y_tr = tf.placeholder(dtype=tf.float32, shape=[size_batch, M_Y])\n",
    "    X_vl = tf.constant(valid_dataset)\n",
    "    X_ts = tf.constant(test_dataset)\n",
    "    \n",
    "    # variables to train\n",
    "    W0 = tf.Variable(tf.truncated_normal([M_X, M_H]))  # alarm: initilize them\n",
    "    b0 = tf.Variable(tf.zeros([M_H]))\n",
    "    W1 = tf.Variable(tf.truncated_normal([M_H, M_Y]))\n",
    "    b1 = tf.Variable(tf.zeros([M_Y]))\n",
    "    \n",
    "    # loss\n",
    "    H = tf.nn.dropout(tf.nn.relu(tf.matmul(X_tr, W0) + b0), keep_prob=0.5)        # alarm: use matrix multiply\n",
    "    logits = tf.matmul(H, W1) + b1\n",
    "    #loss = tf.reduce_mean( tf.nn.softmax_cross_entropy_with_logits(logits=logits, labels=Y_tr) ) # original\n",
    "    loss = tf.reduce_mean( tf.nn.softmax_cross_entropy_with_logits(logits=logits, labels=Y_tr) ) \\\n",
    "    + lambda_l2*(tf.nn.l2_loss(W0)+tf.nn.l2_loss(W1))\n",
    "                     \n",
    "    # optimizer\n",
    "    optimizer = tf.train.GradientDescentOptimizer(0.5).minimize(loss)   # give oprimizer a name\n",
    "    \n",
    "    # model preditction\n",
    "    Y_tr_hat = tf.nn.softmax(logits)\n",
    "    Y_vl_hat = tf.nn.softmax( tf.matmul(tf.nn.relu(tf.matmul(X_vl, W0) + b0), W1) + b1 )\n",
    "    Y_ts_hat = tf.nn.softmax( tf.matmul(tf.nn.relu(tf.matmul(X_ts, W0) + b0), W1) + b1 )\n",
    "    \n",
    "# next, we need a session\n",
    "num_steps = 3001\n",
    "step_plot = []\n",
    "acc_tr = []\n",
    "acc_vl = []\n",
    "loss_tr = []\n",
    "                     \n",
    "with tf.Session(graph=graph) as session:\n",
    "    # initilize variables\n",
    "    tf.global_variables_initializer().run()\n",
    "     \n",
    "    # loop\n",
    "    for step in range(num_steps):\n",
    "        # get batch data\n",
    "        offset = (step * size_batch) % (512 - size_batch)\n",
    "        X_batch = train_dataset[offset:offset+size_batch, :]\n",
    "        Y_batch = train_labels[offset:offset+size_batch, :]\n",
    "        feed_dict = {X_tr: X_batch, Y_tr: Y_batch}\n",
    "        [_, l, predictions] = session.run([optimizer, loss, Y_tr_hat], feed_dict= feed_dict)\n",
    "        if (step % 500 == 0):\n",
    "            step_plot.append(step)\n",
    "            loss_tr.append(l)\n",
    "            acc_tr.append(accuracy(predictions, Y_batch))\n",
    "            acc_vl.append(accuracy(Y_vl_hat.eval(), valid_labels))\n",
    "            print(\"Minibatch loss at step %d: %f\" % (step, l))\n",
    "            print(\"Minibatch accuracy: %.1f%%\" % accuracy(predictions, Y_batch))\n",
    "            print(\"Validation accuracy: %.1f%%\" % accuracy(Y_vl_hat.eval(), valid_labels))\n",
    "    print(\"Test accuracy: %.1f%%\" % accuracy(Y_ts_hat.eval(), test_labels))\n",
    "\n",
    "# plot\n",
    "plt.subplot(2,1,1)\n",
    "plt.plot(step_plot, loss_tr)\n",
    "plt.title('training loss')\n",
    "plt.subplot(2,1,2)\n",
    "plt.plot(step_plot, acc_tr)\n",
    "plt.plot(step_plot, acc_vl)\n",
    "plt.legend(['train','validate'])\n",
    "plt.title('accuracty')"
   ]
  },
  {
   "cell_type": "markdown",
   "metadata": {
    "colab_type": "text",
    "id": "-b1hTz3VWZjw"
   },
   "source": [
    "---\n",
    "Problem 4\n",
    "---------\n",
    "\n",
    "Try to get the best performance you can using a multi-layer model! The best reported test accuracy using a deep network is [97.1%](http://yaroslavvb.blogspot.com/2011/09/notmnist-dataset.html?showComment=1391023266211#c8758720086795711595).\n",
    "\n",
    "One avenue you can explore is to add multiple layers.\n",
    "\n",
    "Another one is to use learning rate decay:\n",
    "\n",
    "    global_step = tf.Variable(0)  # count the number of steps taken.\n",
    "    learning_rate = tf.train.exponential_decay(0.5, global_step, ...)\n",
    "    optimizer = tf.train.GradientDescentOptimizer(learning_rate).minimize(loss, global_step=global_step)\n",
    " \n",
    " ---\n"
   ]
  },
  {
   "cell_type": "code",
   "execution_count": 8,
   "metadata": {},
   "outputs": [
    {
     "name": "stdout",
     "output_type": "stream",
     "text": [
      "Minibatch loss at step 0: 2.794126\n",
      "Minibatch accuracy: 7.0%\n",
      "Validation accuracy: 30.8%\n",
      "Minibatch loss at step 500: 0.838868\n",
      "Minibatch accuracy: 84.8%\n",
      "Validation accuracy: 85.7%\n",
      "Minibatch loss at step 1000: 0.716625\n",
      "Minibatch accuracy: 84.4%\n",
      "Validation accuracy: 87.0%\n",
      "Minibatch loss at step 1500: 0.738961\n",
      "Minibatch accuracy: 82.8%\n",
      "Validation accuracy: 87.8%\n",
      "Minibatch loss at step 2000: 0.530964\n",
      "Minibatch accuracy: 89.5%\n",
      "Validation accuracy: 88.1%\n",
      "Minibatch loss at step 2500: 0.646728\n",
      "Minibatch accuracy: 86.7%\n",
      "Validation accuracy: 88.5%\n",
      "Minibatch loss at step 3000: 0.536049\n",
      "Minibatch accuracy: 87.9%\n",
      "Validation accuracy: 88.9%\n",
      "Minibatch loss at step 3500: 0.408906\n",
      "Minibatch accuracy: 93.4%\n",
      "Validation accuracy: 89.1%\n",
      "Minibatch loss at step 4000: 0.451186\n",
      "Minibatch accuracy: 89.8%\n",
      "Validation accuracy: 89.1%\n",
      "Minibatch loss at step 4500: 0.422442\n",
      "Minibatch accuracy: 90.6%\n",
      "Validation accuracy: 89.4%\n",
      "Minibatch loss at step 5000: 0.442173\n",
      "Minibatch accuracy: 91.8%\n",
      "Validation accuracy: 89.7%\n",
      "Minibatch loss at step 5500: 0.465032\n",
      "Minibatch accuracy: 91.4%\n",
      "Validation accuracy: 89.6%\n",
      "Minibatch loss at step 6000: 0.574026\n",
      "Minibatch accuracy: 86.7%\n",
      "Validation accuracy: 89.8%\n",
      "Minibatch loss at step 6500: 0.351125\n",
      "Minibatch accuracy: 92.2%\n",
      "Validation accuracy: 89.7%\n",
      "Minibatch loss at step 7000: 0.505484\n",
      "Minibatch accuracy: 87.5%\n",
      "Validation accuracy: 89.9%\n",
      "Minibatch loss at step 7500: 0.459615\n",
      "Minibatch accuracy: 89.8%\n",
      "Validation accuracy: 89.8%\n",
      "Minibatch loss at step 8000: 0.363357\n",
      "Minibatch accuracy: 93.4%\n",
      "Validation accuracy: 90.0%\n",
      "Minibatch loss at step 8500: 0.443949\n",
      "Minibatch accuracy: 89.5%\n",
      "Validation accuracy: 90.0%\n",
      "Minibatch loss at step 9000: 0.439091\n",
      "Minibatch accuracy: 89.5%\n",
      "Validation accuracy: 90.0%\n",
      "Minibatch loss at step 9500: 0.523766\n",
      "Minibatch accuracy: 89.1%\n",
      "Validation accuracy: 89.9%\n",
      "Minibatch loss at step 10000: 0.445909\n",
      "Minibatch accuracy: 90.2%\n",
      "Validation accuracy: 89.9%\n",
      "Test accuracy: 95.1%\n"
     ]
    },
    {
     "data": {
      "text/plain": [
       "Text(0.5,1,'accuracty')"
      ]
     },
     "execution_count": 8,
     "metadata": {},
     "output_type": "execute_result"
    },
    {
     "data": {
      "image/png": "[encoded data removed]",
      "text/plain": [
       "<matplotlib.figure.Figure at 0x1822cc17f0>"
      ]
     },
     "metadata": {},
     "output_type": "display_data"
    }
   ],
   "source": [
    "# write the computational graph from scrach\n",
    "size_batch = 256\n",
    "M_X = train_dataset.shape[1]\n",
    "M_H0 = 512\n",
    "M_H1 = 128\n",
    "M_Y = train_labels.shape[1]\n",
    "lambda_l2 = 0.001\n",
    "\n",
    "\n",
    "# first, we need a grpah\n",
    "graph = tf.Graph()\n",
    "with graph.as_default():\n",
    "    global_step = tf.Variable(0)\n",
    "    learning_rate = tf.train.exponential_decay(0.5, global_step, decay_steps=100, decay_rate=0.96)\n",
    "    \n",
    "    # input data\n",
    "    X_tr = tf.placeholder(dtype=tf.float32, shape=[size_batch, M_X]) # alarm: use placeholder, but not variable\n",
    "    Y_tr = tf.placeholder(dtype=tf.float32, shape=[size_batch, M_Y])\n",
    "    X_vl = tf.constant(valid_dataset)\n",
    "    X_ts = tf.constant(test_dataset)\n",
    "    \n",
    "    # variables to train\n",
    "    W0 = tf.Variable(tf.truncated_normal([M_X, M_H0], stddev=0.05))  # alarm: initilize them, make stddev small\n",
    "    b0 = tf.Variable(tf.zeros([M_H0]))\n",
    "    W1 = tf.Variable(tf.truncated_normal([M_H0, M_H1] , stddev=0.05))\n",
    "    b1 = tf.Variable(tf.zeros([M_H1]))\n",
    "    W2 = tf.Variable(tf.truncated_normal([M_H1, M_Y], stddev=0.05))\n",
    "    b2 = tf.Variable(tf.zeros([M_Y]))\n",
    "    \n",
    "    # loss\n",
    "    H0 = tf.nn.dropout(tf.nn.relu(tf.matmul(X_tr, W0) + b0), keep_prob=0.7)        # alarm: use matrix multiply\n",
    "    H1 = tf.nn.dropout(tf.nn.relu(tf.matmul(H0, W1) + b1), keep_prob=0.7)        # alarm: use matrix multiply\n",
    "    logits = tf.matmul(H1, W2) + b2\n",
    "    #loss = tf.reduce_mean( tf.nn.softmax_cross_entropy_with_logits(logits=logits, labels=Y_tr) ) # original\n",
    "    loss = tf.reduce_mean( tf.nn.softmax_cross_entropy_with_logits(logits=logits, labels=Y_tr) ) \\\n",
    "    + lambda_l2*(tf.nn.l2_loss(W0)+tf.nn.l2_loss(W1)+tf.nn.l2_loss(W2))\n",
    "                     \n",
    "    # optimizer\n",
    "    optimizer = tf.train.GradientDescentOptimizer(learning_rate).minimize(loss, global_step=global_step)   # give oprimizer a name\n",
    "    \n",
    "    # model preditction\n",
    "    Y_tr_hat = tf.nn.softmax(logits)\n",
    "    Y_vl_hat = tf.nn.softmax( tf.matmul(tf.nn.relu(tf.matmul(tf.nn.relu(tf.matmul(X_vl, W0) + b0), W1) + b1), W2) + b2)\n",
    "    Y_ts_hat = tf.nn.softmax( tf.matmul(tf.nn.relu(tf.matmul(tf.nn.relu(tf.matmul(X_ts, W0) + b0), W1) + b1), W2) + b2)\n",
    "    \n",
    "# next, we need a session\n",
    "num_steps = 10001\n",
    "step_plot = []\n",
    "acc_tr = []\n",
    "acc_vl = []\n",
    "loss_tr = []\n",
    "                     \n",
    "with tf.Session(graph=graph) as session:\n",
    "    # initilize variables\n",
    "    tf.global_variables_initializer().run()\n",
    "     \n",
    "    # loop\n",
    "    for step in range(num_steps):\n",
    "        # get batch data\n",
    "        offset = (step * size_batch) % (train_dataset.shape[0] - size_batch)\n",
    "        X_batch = train_dataset[offset:offset+size_batch, :]\n",
    "        Y_batch = train_labels[offset:offset+size_batch, :]\n",
    "        feed_dict = {X_tr: X_batch, Y_tr: Y_batch}\n",
    "        [_, l, predictions] = session.run([optimizer, loss, Y_tr_hat], feed_dict= feed_dict)\n",
    "        if (step % 500 == 0):\n",
    "            step_plot.append(step)\n",
    "            loss_tr.append(l)\n",
    "            acc_tr.append(accuracy(predictions, Y_batch))\n",
    "            acc_vl.append(accuracy(Y_vl_hat.eval(), valid_labels))\n",
    "            print(\"Minibatch loss at step %d: %f\" % (step, l))\n",
    "            print(\"Minibatch accuracy: %.1f%%\" % accuracy(predictions, Y_batch))\n",
    "            print(\"Validation accuracy: %.1f%%\" % accuracy(Y_vl_hat.eval(), valid_labels))\n",
    "    print(\"Test accuracy: %.1f%%\" % accuracy(Y_ts_hat.eval(), test_labels))\n",
    "\n",
    "# plot\n",
    "plt.subplot(2,1,1)\n",
    "plt.plot(step_plot, loss_tr)\n",
    "plt.title('training loss')\n",
    "plt.subplot(2,1,2)\n",
    "plt.plot(step_plot, acc_tr)\n",
    "plt.plot(step_plot, acc_vl)\n",
    "plt.legend(['train','validate'])\n",
    "plt.title('accuracty')"
   ]
  },
  {
   "cell_type": "code",
   "execution_count": 7,
   "metadata": {},
   "outputs": [
    {
     "data": {
      "text/plain": [
       "0.016870319358849587"
      ]
     },
     "execution_count": 7,
     "metadata": {},
     "output_type": "execute_result"
    }
   ],
   "source": [
    "0.96**100"
   ]
  },
  {
   "cell_type": "code",
   "execution_count": null,
   "metadata": {
    "collapsed": true
   },
   "outputs": [],
   "source": []
  }
 ],
 "metadata": {
  "colab": {
   "default_view": {},
   "name": "3_regularization.ipynb",
   "provenance": [],
   "version": "0.3.2",
   "views": {}
  },
  "kernelspec": {
   "display_name": "Python 3",
   "language": "python",
   "name": "python3"
  },
  "language_info": {
   "codemirror_mode": {
    "name": "ipython",
    "version": 3
   },
   "file_extension": ".py",
   "mimetype": "text/x-python",
   "name": "python",
   "nbconvert_exporter": "python",
   "pygments_lexer": "ipython3",
   "version": "3.6.2"
  }
 },
 "nbformat": 4,
 "nbformat_minor": 1
}
