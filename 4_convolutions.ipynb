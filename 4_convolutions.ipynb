{
 "cells": [
  {
   "cell_type": "markdown",
   "metadata": {
    "colab_type": "text",
    "id": "4embtkV0pNxM"
   },
   "source": [
    "Deep Learning\n",
    "=============\n",
    "\n",
    "Assignment 4\n",
    "------------\n",
    "\n",
    "Previously in `2_fullyconnected.ipynb` and `3_regularization.ipynb`, we trained fully connected networks to classify [notMNIST](http://yaroslavvb.blogspot.com/2011/09/notmnist-dataset.html) characters.\n",
    "\n",
    "The goal of this assignment is make the neural network convolutional."
   ]
  },
  {
   "cell_type": "code",
   "execution_count": 1,
   "metadata": {
    "cellView": "both",
    "colab": {
     "autoexec": {
      "startup": false,
      "wait_interval": 0.0
     }
    },
    "colab_type": "code",
    "id": "tm2CQN_Cpwj0"
   },
   "outputs": [
    {
     "name": "stderr",
     "output_type": "stream",
     "text": [
      "/shared/homes/sguan/anaconda3/lib/python3.6/importlib/_bootstrap.py:205: RuntimeWarning: compiletime version 3.5 of module 'tensorflow.python.framework.fast_tensor_util' does not match runtime version 3.6\n  return f(*args, **kwds)\n"
     ]
    }
   ],
   "source": [
    "# These are all the modules we'll be using later. Make sure you can import them\n",
    "# before proceeding further.\n",
    "from __future__ import print_function\n",
    "import numpy as np\n",
    "import tensorflow as tf\n",
    "from six.moves import cPickle as pickle\n",
    "from six.moves import range"
   ]
  },
  {
   "cell_type": "code",
   "execution_count": 209,
   "metadata": {
    "cellView": "both",
    "colab": {
     "autoexec": {
      "startup": false,
      "wait_interval": 0.0
     },
     "output_extras": [
      {
       "item_id": 1.0
      }
     ]
    },
    "colab_type": "code",
    "executionInfo": {
     "elapsed": 11948.0,
     "status": "ok",
     "timestamp": 1.446658914837E12,
     "user": {
      "color": "",
      "displayName": "",
      "isAnonymous": false,
      "isMe": true,
      "permissionId": "",
      "photoUrl": "",
      "sessionId": "0",
      "userId": ""
     },
     "user_tz": 480.0
    },
    "id": "y3-cj1bpmuxc",
    "outputId": "016b1a51-0290-4b08-efdb-8c95ffc3cd01"
   },
   "outputs": [
    {
     "name": "stdout",
     "output_type": "stream",
     "text": [
      "Training set (195125, 28, 28) (195125,)\nValidation set (9828, 28, 28) (9828,)\nTest set (10000, 28, 28) (10000,)\n"
     ]
    }
   ],
   "source": [
    "# pickle_file = './support_data/notMNIST.pickle'\n",
    "pickle_file = './support_data/notMNIST_clean.pickle'\n",
    "\n",
    "with open(pickle_file, 'rb') as f:\n",
    "  save = pickle.load(f)\n",
    "  train_dataset = save['train_dataset']\n",
    "  train_labels = save['train_labels']\n",
    "  valid_dataset = save['valid_dataset']\n",
    "  valid_labels = save['valid_labels']\n",
    "  test_dataset = save['test_dataset']\n",
    "  test_labels = save['test_labels']\n",
    "  del save  # hint to help gc free up memory\n",
    "  print('Training set', train_dataset.shape, train_labels.shape)\n",
    "  print('Validation set', valid_dataset.shape, valid_labels.shape)\n",
    "  print('Test set', test_dataset.shape, test_labels.shape)"
   ]
  },
  {
   "cell_type": "markdown",
   "metadata": {
    "colab_type": "text",
    "id": "L7aHrm6nGDMB"
   },
   "source": [
    "Reformat into a TensorFlow-friendly shape:\n",
    "- convolutions need the image data formatted as a cube (width by height by #channels)\n",
    "- labels as float 1-hot encodings."
   ]
  },
  {
   "cell_type": "code",
   "execution_count": 210,
   "metadata": {
    "cellView": "both",
    "colab": {
     "autoexec": {
      "startup": false,
      "wait_interval": 0.0
     },
     "output_extras": [
      {
       "item_id": 1.0
      }
     ]
    },
    "colab_type": "code",
    "executionInfo": {
     "elapsed": 11952.0,
     "status": "ok",
     "timestamp": 1.446658914857E12,
     "user": {
      "color": "",
      "displayName": "",
      "isAnonymous": false,
      "isMe": true,
      "permissionId": "",
      "photoUrl": "",
      "sessionId": "0",
      "userId": ""
     },
     "user_tz": 480.0
    },
    "id": "IRSyYiIIGIzS",
    "outputId": "650a208c-8359-4852-f4f5-8bf10e80ef6c"
   },
   "outputs": [
    {
     "name": "stdout",
     "output_type": "stream",
     "text": [
      "Training set (195125, 28, 28, 1) (195125, 10)\nValidation set (9828, 28, 28, 1) (9828, 10)\nTest set (10000, 28, 28, 1) (10000, 10)\n"
     ]
    }
   ],
   "source": [
    "image_size = 28\n",
    "num_labels = 10\n",
    "num_channels = 1 # grayscale\n",
    "\n",
    "import numpy as np\n",
    "\n",
    "def reformat(dataset, labels):\n",
    "  dataset = dataset.reshape(\n",
    "    (-1, image_size, image_size, num_channels)).astype(np.float32)\n",
    "  labels = (np.arange(num_labels) == labels[:,None]).astype(np.float32)\n",
    "  return dataset, labels\n",
    "train_dataset, train_labels = reformat(train_dataset, train_labels)\n",
    "valid_dataset, valid_labels = reformat(valid_dataset, valid_labels)\n",
    "test_dataset, test_labels = reformat(test_dataset, test_labels)\n",
    "print('Training set', train_dataset.shape, train_labels.shape)\n",
    "print('Validation set', valid_dataset.shape, valid_labels.shape)\n",
    "print('Test set', test_dataset.shape, test_labels.shape)"
   ]
  },
  {
   "cell_type": "code",
   "execution_count": 211,
   "metadata": {
    "cellView": "both",
    "colab": {
     "autoexec": {
      "startup": false,
      "wait_interval": 0.0
     }
    },
    "colab_type": "code",
    "collapsed": true,
    "id": "AgQDIREv02p1"
   },
   "outputs": [],
   "source": [
    "def accuracy(predictions, labels):\n",
    "  return (100.0 * np.sum(np.argmax(predictions, 1) == np.argmax(labels, 1))\n",
    "          / predictions.shape[0])"
   ]
  },
  {
   "cell_type": "markdown",
   "metadata": {
    "colab_type": "text",
    "id": "5rhgjmROXu2O"
   },
   "source": [
    "Let's build a small network with two convolutional layers, followed by one fully connected layer. Convolutional networks are more expensive computationally, so we'll limit its depth and number of fully connected nodes."
   ]
  },
  {
   "cell_type": "code",
   "execution_count": 63,
   "metadata": {
    "cellView": "both",
    "colab": {
     "autoexec": {
      "startup": false,
      "wait_interval": 0.0
     }
    },
    "colab_type": "code",
    "collapsed": true,
    "id": "IZYv70SvvOan"
   },
   "outputs": [],
   "source": [
    "batch_size = 16\n",
    "patch_size = 5\n",
    "depth = 16\n",
    "num_hidden = 64\n",
    "\n",
    "graph = tf.Graph()\n",
    "\n",
    "with graph.as_default():\n",
    "\n",
    "  # Input data.\n",
    "  tf_train_dataset = tf.placeholder(\n",
    "    tf.float32, shape=(batch_size, image_size, image_size, num_channels))\n",
    "  tf_train_labels = tf.placeholder(tf.float32, shape=(batch_size, num_labels))\n",
    "  tf_valid_dataset = tf.constant(valid_dataset)\n",
    "  tf_test_dataset = tf.constant(test_dataset)\n",
    "  \n",
    "  # Variables.\n",
    "  layer1_weights = tf.Variable(tf.truncated_normal(\n",
    "      [patch_size, patch_size, num_channels, depth], stddev=0.1))\n",
    "  layer1_biases = tf.Variable(tf.zeros([depth]))\n",
    "  layer2_weights = tf.Variable(tf.truncated_normal(\n",
    "      [patch_size, patch_size, depth, depth], stddev=0.1))\n",
    "  layer2_biases = tf.Variable(tf.constant(1.0, shape=[depth]))\n",
    "  layer3_weights = tf.Variable(tf.truncated_normal(\n",
    "      [image_size // 4 * image_size // 4 * depth, num_hidden], stddev=0.1))\n",
    "  layer3_biases = tf.Variable(tf.constant(1.0, shape=[num_hidden]))\n",
    "  layer4_weights = tf.Variable(tf.truncated_normal(\n",
    "      [num_hidden, num_labels], stddev=0.1))\n",
    "  layer4_biases = tf.Variable(tf.constant(1.0, shape=[num_labels]))\n",
    "  \n",
    "  # Model.\n",
    "  def model(data):\n",
    "    conv = tf.nn.conv2d(data, layer1_weights, [1, 2, 2, 1], padding='SAME')\n",
    "    hidden = tf.nn.relu(conv + layer1_biases)\n",
    "    conv = tf.nn.conv2d(hidden, layer2_weights, [1, 2, 2, 1], padding='SAME')\n",
    "    hidden = tf.nn.relu(conv + layer2_biases)\n",
    "    shape = hidden.get_shape().as_list()\n",
    "    reshape = tf.reshape(hidden, [shape[0], shape[1] * shape[2] * shape[3]])\n",
    "    hidden = tf.nn.relu(tf.matmul(reshape, layer3_weights) + layer3_biases)\n",
    "    return tf.matmul(hidden, layer4_weights) + layer4_biases\n",
    "  \n",
    "  # Training computation.\n",
    "  logits = model(tf_train_dataset)\n",
    "  loss = tf.reduce_mean(\n",
    "    tf.nn.softmax_cross_entropy_with_logits(labels=tf_train_labels, logits=logits))\n",
    "    \n",
    "  # Optimizer.\n",
    "  optimizer = tf.train.GradientDescentOptimizer(0.05).minimize(loss)\n",
    "  \n",
    "  # Predictions for the training, validation, and test data.\n",
    "  train_prediction = tf.nn.softmax(logits)\n",
    "  valid_prediction = tf.nn.softmax(model(tf_valid_dataset))\n",
    "  test_prediction = tf.nn.softmax(model(tf_test_dataset))"
   ]
  },
  {
   "cell_type": "code",
   "execution_count": 64,
   "metadata": {
    "cellView": "both",
    "colab": {
     "autoexec": {
      "startup": false,
      "wait_interval": 0.0
     },
     "output_extras": [
      {
       "item_id": 37.0
      }
     ]
    },
    "colab_type": "code",
    "executionInfo": {
     "elapsed": 63292.0,
     "status": "ok",
     "timestamp": 1.446658966251E12,
     "user": {
      "color": "",
      "displayName": "",
      "isAnonymous": false,
      "isMe": true,
      "permissionId": "",
      "photoUrl": "",
      "sessionId": "0",
      "userId": ""
     },
     "user_tz": 480.0
    },
    "id": "noKFb2UovVFR",
    "outputId": "28941338-2ef9-4088-8bd1-44295661e628"
   },
   "outputs": [
    {
     "name": "stdout",
     "output_type": "stream",
     "text": [
      "Initialized\nMinibatch loss at step 0: 3.944964\nMinibatch accuracy: 12.5%\nValidation accuracy: 10.0%\n"
     ]
    },
    {
     "name": "stdout",
     "output_type": "stream",
     "text": [
      "Minibatch loss at step 50: 1.935623\nMinibatch accuracy: 18.8%\nValidation accuracy: 38.2%\nMinibatch loss at step 100: 1.414533\nMinibatch accuracy: 68.8%\n"
     ]
    },
    {
     "name": "stdout",
     "output_type": "stream",
     "text": [
      "Validation accuracy: 65.3%\nMinibatch loss at step 150: 0.438555\nMinibatch accuracy: 93.8%\n"
     ]
    },
    {
     "name": "stdout",
     "output_type": "stream",
     "text": [
      "Validation accuracy: 77.2%\nMinibatch loss at step 200: 0.438523\nMinibatch accuracy: 93.8%\n"
     ]
    },
    {
     "name": "stdout",
     "output_type": "stream",
     "text": [
      "Validation accuracy: 77.4%\nMinibatch loss at step 250: 1.545897\nMinibatch accuracy: 62.5%\n"
     ]
    },
    {
     "name": "stdout",
     "output_type": "stream",
     "text": [
      "Validation accuracy: 78.5%\nMinibatch loss at step 300: 1.220419\nMinibatch accuracy: 62.5%\nValidation accuracy: 79.2%\n"
     ]
    },
    {
     "name": "stdout",
     "output_type": "stream",
     "text": [
      "Minibatch loss at step 350: 0.253962\nMinibatch accuracy: 93.8%\nValidation accuracy: 78.1%\n"
     ]
    },
    {
     "name": "stdout",
     "output_type": "stream",
     "text": [
      "Minibatch loss at step 400: 0.571552\nMinibatch accuracy: 81.2%\nValidation accuracy: 78.8%\n"
     ]
    },
    {
     "name": "stdout",
     "output_type": "stream",
     "text": [
      "Minibatch loss at step 450: 0.369870\nMinibatch accuracy: 87.5%\nValidation accuracy: 80.7%\n"
     ]
    },
    {
     "name": "stdout",
     "output_type": "stream",
     "text": [
      "Minibatch loss at step 500: 0.768714\nMinibatch accuracy: 75.0%\nValidation accuracy: 81.3%\n"
     ]
    },
    {
     "name": "stdout",
     "output_type": "stream",
     "text": [
      "Minibatch loss at step 550: 0.601705\nMinibatch accuracy: 87.5%\nValidation accuracy: 80.7%\n"
     ]
    },
    {
     "name": "stdout",
     "output_type": "stream",
     "text": [
      "Minibatch loss at step 600: 0.846249\nMinibatch accuracy: 75.0%\nValidation accuracy: 80.5%\n"
     ]
    },
    {
     "name": "stdout",
     "output_type": "stream",
     "text": [
      "Minibatch loss at step 650: 0.691793\nMinibatch accuracy: 75.0%\nValidation accuracy: 81.3%\n"
     ]
    },
    {
     "name": "stdout",
     "output_type": "stream",
     "text": [
      "Minibatch loss at step 700: 0.567067\nMinibatch accuracy: 81.2%\nValidation accuracy: 81.3%\nMinibatch loss at step 750: 0.595801\nMinibatch accuracy: 81.2%\n"
     ]
    },
    {
     "name": "stdout",
     "output_type": "stream",
     "text": [
      "Validation accuracy: 82.1%\nMinibatch loss at step 800: 0.453830\nMinibatch accuracy: 93.8%\nValidation accuracy: 82.1%\n"
     ]
    },
    {
     "name": "stdout",
     "output_type": "stream",
     "text": [
      "Minibatch loss at step 850: 0.452454\nMinibatch accuracy: 87.5%\nValidation accuracy: 82.6%\n"
     ]
    },
    {
     "name": "stdout",
     "output_type": "stream",
     "text": [
      "Minibatch loss at step 900: 0.238688\nMinibatch accuracy: 93.8%\nValidation accuracy: 82.7%\n"
     ]
    },
    {
     "name": "stdout",
     "output_type": "stream",
     "text": [
      "Minibatch loss at step 950: 0.095232\nMinibatch accuracy: 100.0%\nValidation accuracy: 83.1%\n"
     ]
    },
    {
     "name": "stdout",
     "output_type": "stream",
     "text": [
      "Minibatch loss at step 1000: 0.817637\nMinibatch accuracy: 81.2%\nValidation accuracy: 82.9%\n"
     ]
    },
    {
     "name": "stdout",
     "output_type": "stream",
     "text": [
      "Test accuracy: 89.5%\n"
     ]
    }
   ],
   "source": [
    "num_steps = 1001\n",
    "\n",
    "with tf.Session(graph=graph) as session:\n",
    "  tf.global_variables_initializer().run()\n",
    "  print('Initialized')\n",
    "  for step in range(num_steps):\n",
    "    offset = (step * batch_size) % (train_labels.shape[0] - batch_size)\n",
    "    batch_data = train_dataset[offset:(offset + batch_size), :, :, :]\n",
    "    batch_labels = train_labels[offset:(offset + batch_size), :]\n",
    "    feed_dict = {tf_train_dataset : batch_data, tf_train_labels : batch_labels}\n",
    "    _, l, predictions = session.run(\n",
    "      [optimizer, loss, train_prediction], feed_dict=feed_dict)\n",
    "    if (step % 50 == 0):\n",
    "      print('Minibatch loss at step %d: %f' % (step, l))\n",
    "      print('Minibatch accuracy: %.1f%%' % accuracy(predictions, batch_labels))\n",
    "      print('Validation accuracy: %.1f%%' % accuracy(\n",
    "        valid_prediction.eval(), valid_labels))\n",
    "  print('Test accuracy: %.1f%%' % accuracy(test_prediction.eval(), test_labels))"
   ]
  },
  {
   "cell_type": "markdown",
   "metadata": {
    "colab_type": "text",
    "id": "KedKkn4EutIK"
   },
   "source": [
    "---\n",
    "Problem 1\n",
    "---------\n",
    "\n",
    "The convolutional model above uses convolutions with stride 2 to reduce the dimensionality. Replace the strides by a max pooling operation (`nn.max_pool()`) of stride 2 and kernel size 2.\n",
    "\n",
    "---"
   ]
  },
  {
   "cell_type": "code",
   "execution_count": 21,
   "metadata": {},
   "outputs": [
    {
     "data": {
      "text/plain": [
       "1"
      ]
     },
     "execution_count": 21,
     "metadata": {},
     "output_type": "execute_result"
    }
   ],
   "source": [
    "num_channels"
   ]
  },
  {
   "cell_type": "code",
   "execution_count": 117,
   "metadata": {},
   "outputs": [],
   "source": [
    "# write the original model from scratch\n",
    "\n",
    "batch_size = 16\n",
    "M_conv_p = 5  # patch size \n",
    "M_conv_d = 16 # depth\n",
    "M_conv_s = 2  # stride\n",
    "M_full = 64\n",
    "lambda_l2 = 0.001   # parameter for L2 penalty\n",
    "\n",
    "M1_conv_shape = np.array([image_size//M_conv_s, image_size//M_conv_s, M_conv_d])\n",
    "M2_conv_shape = np.array([image_size//M_conv_s**2, image_size//M_conv_s**2, M_conv_d])\n",
    "M2_conv_size = np.prod(M2_conv_shape)\n",
    "\n",
    "\n",
    "graph = tf.Graph()\n",
    "\n",
    "with graph.as_default():\n",
    "    \n",
    "    \n",
    "    \"\"\" declare placeholder, constant and variable \"\"\"\n",
    "    # placeholder\n",
    "    X_tr = tf.placeholder(dtype=tf.float32, shape=[batch_size, image_size, image_size, num_channels])\n",
    "    Y_tr = tf.placeholder(dtype=tf.float32, shape=[batch_size, num_labels])\n",
    "    \n",
    "    # constant\n",
    "    X_vl = tf.constant(valid_dataset, dtype=tf.float32)\n",
    "    X_ts = tf.constant( test_dataset, dtype=tf.float32)\n",
    "    \n",
    "    # variable\n",
    "    W1_conv = tf.Variable(tf.truncated_normal(shape=[M_conv_p, M_conv_p, num_channels, M_conv_d], stddev=0.05))\n",
    "    b1_conv = tf.Variable(tf.zeros(M_conv_d))\n",
    "    W2_conv = tf.Variable(tf.truncated_normal(shape=[M_conv_p, M_conv_p, M_conv_d, M_conv_d], stddev=0.05))\n",
    "    b2_conv = tf.Variable(tf.zeros(M_conv_d))\n",
    "    W3_full = tf.Variable(tf.truncated_normal(shape=[M2_conv_size, M_full], stddev=0.05))\n",
    "    b3_full = tf.Variable(tf.zeros(M_full))\n",
    "    W4_full = tf.Variable(tf.truncated_normal(shape=[M_full, num_labels], stddev=0.05))\n",
    "    b4_full = tf.Variable(tf.zeros(num_labels))\n",
    "\n",
    "    \"\"\" define the neural network model \"\"\"\n",
    "    def model(X_in):\n",
    "        X1_conv = tf.nn.relu(b1_conv + \\\n",
    "                             tf.nn.conv2d(X_in, filter=W1_conv, strides=[1, M_conv_s, M_conv_s, 1], padding='SAME'))\n",
    "        X2_conv = tf.nn.relu(b2_conv + \\\n",
    "                             tf.nn.conv2d(X1_conv, filter=W2_conv, strides=[1, M_conv_s, M_conv_s, 1], padding='SAME'))\n",
    "        X2_conv_flat = tf.reshape(X2_conv, [-1, M2_conv_size])\n",
    "        X3_full = tf.nn.relu(b3_full + tf.matmul(X2_conv_flat, W3_full))\n",
    "        X_out = b4_full + tf.matmul(X3_full, W4_full)\n",
    "        return X_out\n",
    "\n",
    "    \"\"\" define training loss and optimizer \"\"\"\n",
    "    logits = model(X_tr)\n",
    "    loss = tf.reduce_mean(tf.nn.softmax_cross_entropy_with_logits(labels=Y_tr, logits=logits)) +\\\n",
    "           lambda_l2*tf.nn.l2_loss(W1_conv) + lambda_l2*tf.nn.l2_loss(W2_conv) + \\\n",
    "           lambda_l2*tf.nn.l2_loss(W3_full) + lambda_l2*tf.nn.l2_loss(W4_full)\n",
    "    \n",
    "    optimizer = tf.train.GradientDescentOptimizer(0.05).minimize(loss)\n",
    "\n",
    "    \"\"\" get train/valid/test predictions \"\"\"\n",
    "    y_hat_tr = tf.nn.softmax(logits)\n",
    "    y_hat_vl = tf.nn.softmax( model(X_vl) )\n",
    "    y_hat_ts = tf.nn.softmax( model(X_ts) )"
   ]
  },
  {
   "cell_type": "code",
   "execution_count": 121,
   "metadata": {},
   "outputs": [],
   "source": [
    "# write the model using max pooling\n",
    "\n",
    "batch_size = 16\n",
    "M_conv_p = 5  # patch size \n",
    "M_conv_d = 16 # depth\n",
    "M_pool_s = 2  # pooling stride\n",
    "M_pool_k = 2  # pooling kernel size\n",
    "M_full = 64\n",
    "lambda_l2 = 0.001   # parameter for L2 penalty\n",
    "\n",
    "M1_conv_shape = np.array([image_size//M_pool_s, image_size//M_pool_s, M_conv_d])\n",
    "M2_conv_shape = np.array([image_size//M_pool_s**2, image_size//M_pool_s**2, M_conv_d])\n",
    "M2_conv_size = np.prod(M2_conv_shape)\n",
    "\n",
    "\n",
    "graph = tf.Graph()\n",
    "\n",
    "with graph.as_default():\n",
    "    \"\"\" declare placeholder, constant and variable \"\"\"\n",
    "    # placeholder\n",
    "    X_tr = tf.placeholder(dtype=tf.float32, shape=[batch_size, image_size, image_size, num_channels])\n",
    "    Y_tr = tf.placeholder(dtype=tf.float32, shape=[batch_size, num_labels])\n",
    "    \n",
    "    # constant\n",
    "    X_vl = tf.constant(valid_dataset, dtype=tf.float32)\n",
    "    X_ts = tf.constant( test_dataset, dtype=tf.float32)\n",
    "    \n",
    "    # variable\n",
    "    W1_conv = tf.Variable(tf.truncated_normal(shape=[M_conv_p, M_conv_p, num_channels, M_conv_d], stddev=0.05))\n",
    "    b1_conv = tf.Variable(tf.zeros(M_conv_d))\n",
    "    W2_conv = tf.Variable(tf.truncated_normal(shape=[M_conv_p, M_conv_p, M_conv_d, M_conv_d], stddev=0.05))\n",
    "    b2_conv = tf.Variable(tf.zeros(M_conv_d))\n",
    "    W3_full = tf.Variable(tf.truncated_normal(shape=[M2_conv_size, M_full], stddev=0.05))\n",
    "    b3_full = tf.Variable(tf.zeros(M_full))\n",
    "    W4_full = tf.Variable(tf.truncated_normal(shape=[M_full, num_labels], stddev=0.05))\n",
    "    b4_full = tf.Variable(tf.zeros(num_labels))\n",
    "\n",
    "    \"\"\" define the neural network model \"\"\"\n",
    "    def model(X_in):\n",
    "        X1_conv = tf.nn.relu(b1_conv + \\\n",
    "                             tf.nn.conv2d(X_in,    filter=W1_conv, strides=[1, 1, 1, 1], padding='SAME'))\n",
    "        X1_pool = tf.nn.max_pool(X1_conv, ksize=[1,M_pool_k, M_pool_k, 1], strides=[1,M_pool_s, M_pool_s, 1], padding='SAME')\n",
    "        X2_conv = tf.nn.relu(b2_conv + \\\n",
    "                             tf.nn.conv2d(X1_pool, filter=W2_conv, strides=[1, 1, 1, 1], padding='SAME'))\n",
    "        X2_pool = tf.nn.max_pool(X2_conv, ksize=[1,M_pool_k, M_pool_k, 1], strides=[1,M_pool_s, M_pool_s, 1], padding='SAME')\n",
    "        X2_conv_flat = tf.reshape(X2_pool, [-1, M2_conv_size])\n",
    "        X3_full = tf.nn.relu(b3_full + tf.matmul(X2_conv_flat, W3_full))\n",
    "        X_out = b4_full + tf.matmul(X3_full, W4_full)\n",
    "        return X_out\n",
    "\n",
    "    \"\"\" define training loss and optimizer \"\"\"\n",
    "    logits = model(X_tr)\n",
    "    loss = tf.reduce_mean(tf.nn.softmax_cross_entropy_with_logits(labels=Y_tr, logits=logits)) +\\\n",
    "           lambda_l2*tf.nn.l2_loss(W1_conv) + lambda_l2*tf.nn.l2_loss(W2_conv) + \\\n",
    "           lambda_l2*tf.nn.l2_loss(W3_full) + lambda_l2*tf.nn.l2_loss(W4_full)\n",
    "    \n",
    "    optimizer = tf.train.GradientDescentOptimizer(0.05).minimize(loss)\n",
    "\n",
    "    \"\"\" get train/valid/test predictions \"\"\"\n",
    "    y_hat_tr = tf.nn.softmax(logits)\n",
    "    y_hat_vl = tf.nn.softmax( model(X_vl) )\n",
    "    y_hat_ts = tf.nn.softmax( model(X_ts) )"
   ]
  },
  {
   "cell_type": "code",
   "execution_count": 124,
   "metadata": {},
   "outputs": [
    {
     "name": "stdout",
     "output_type": "stream",
     "text": [
      "model variable initialized\n"
     ]
    },
    {
     "name": "stdout",
     "output_type": "stream",
     "text": [
      "step=     0, loss=2.362159,  accuracy: tr=  6.25, vl= 11.57\n"
     ]
    },
    {
     "name": "stdout",
     "output_type": "stream",
     "text": [
      "step=   100, loss=2.244925,  accuracy: tr= 43.75, vl= 31.38\n"
     ]
    },
    {
     "name": "stdout",
     "output_type": "stream",
     "text": [
      "step=   200, loss=0.622760,  accuracy: tr= 87.50, vl= 72.80\n"
     ]
    },
    {
     "name": "stdout",
     "output_type": "stream",
     "text": [
      "step=   300, loss=1.211799,  accuracy: tr= 62.50, vl= 76.76\n"
     ]
    },
    {
     "name": "stdout",
     "output_type": "stream",
     "text": [
      "step=   400, loss=0.753276,  accuracy: tr= 81.25, vl= 78.72\n"
     ]
    },
    {
     "name": "stdout",
     "output_type": "stream",
     "text": [
      "step=   500, loss=0.768371,  accuracy: tr= 75.00, vl= 81.47\n"
     ]
    },
    {
     "name": "stdout",
     "output_type": "stream",
     "text": [
      "step=   600, loss=0.980565,  accuracy: tr= 81.25, vl= 81.91\n"
     ]
    },
    {
     "name": "stdout",
     "output_type": "stream",
     "text": [
      "step=   700, loss=0.580157,  accuracy: tr= 87.50, vl= 82.51\n"
     ]
    },
    {
     "name": "stdout",
     "output_type": "stream",
     "text": [
      "step=   800, loss=0.729119,  accuracy: tr= 87.50, vl= 81.74\n"
     ]
    },
    {
     "name": "stdout",
     "output_type": "stream",
     "text": [
      "step=   900, loss=0.312599,  accuracy: tr= 93.75, vl= 83.42\n"
     ]
    },
    {
     "name": "stdout",
     "output_type": "stream",
     "text": [
      "step=  1000, loss=0.746063,  accuracy: tr= 81.25, vl= 83.71\n"
     ]
    },
    {
     "name": "stdout",
     "output_type": "stream",
     "text": [
      "finally, loss=0.746063,  accuracy: vl= 83.71, test= 90.43\n"
     ]
    }
   ],
   "source": [
    "# make a session to run the model\n",
    "\n",
    "num_steps = 1001\n",
    "\n",
    "with tf.Session(graph=graph) as session:\n",
    "    tf.global_variables_initializer().run()    # remember to initialize variables\n",
    "    print('model variable initialized')\n",
    "    for step in range(num_steps):\n",
    "        offset = (step*batch_size)%(len(train_dataset)-batch_size)\n",
    "        feed_dict = {X_tr: train_dataset[offset:offset+batch_size], Y_tr:  train_labels[offset:offset+batch_size]}\n",
    "        [_, loss_cur, y_hat_tr_cur] = session.run([optimizer, loss, y_hat_tr], feed_dict=feed_dict)\n",
    "        if step%100 == 0:\n",
    "            acc_tr = accuracy(y_hat_tr_cur, train_labels[offset:offset+batch_size])\n",
    "            acc_vl = accuracy(y_hat_vl.eval(), valid_labels)\n",
    "            print('step={:>6}, loss={:>6f},  accuracy: tr={:6.2f}, vl={:6.2f}'.format(step, loss_cur, acc_tr, acc_vl))\n",
    "    acc_ts = accuracy(y_hat_ts.eval(),  test_labels)\n",
    "    print('finally, loss={:>6f},  accuracy: vl={:6.2f}, test={:6.2f}'.format(loss_cur, acc_vl, acc_ts))"
   ]
  },
  {
   "cell_type": "markdown",
   "metadata": {
    "colab_type": "text",
    "id": "klf21gpbAgb-"
   },
   "source": [
    "---\n",
    "Problem 2\n",
    "---------\n",
    "\n",
    "Try to get the best performance you can using a convolutional net. Look for example at the classic [LeNet5](http://yann.lecun.com/exdb/lenet/) architecture, adding Dropout, and/or adding learning rate decay.\n",
    "\n",
    "---"
   ]
  },
  {
   "cell_type": "code",
   "execution_count": 229,
   "metadata": {},
   "outputs": [
    {
     "name": "stdout",
     "output_type": "stream",
     "text": [
      "model variable initialized\n"
     ]
    },
    {
     "name": "stdout",
     "output_type": "stream",
     "text": [
      "step=     0, loss=2.419630,  accuracy: tr= 10.94, vl= 10.10\n"
     ]
    },
    {
     "name": "stdout",
     "output_type": "stream",
     "text": [
      "step=   100, loss=2.361379,  accuracy: tr= 29.69, vl= 28.58\n"
     ]
    },
    {
     "name": "stdout",
     "output_type": "stream",
     "text": [
      "step=   200, loss=1.210154,  accuracy: tr= 71.88, vl= 71.51\n"
     ]
    },
    {
     "name": "stdout",
     "output_type": "stream",
     "text": [
      "step=   300, loss=0.957242,  accuracy: tr= 75.00, vl= 79.57\n"
     ]
    },
    {
     "name": "stdout",
     "output_type": "stream",
     "text": [
      "step=   400, loss=0.711079,  accuracy: tr= 84.38, vl= 81.84\n"
     ]
    },
    {
     "name": "stdout",
     "output_type": "stream",
     "text": [
      "step=   500, loss=0.918874,  accuracy: tr= 75.00, vl= 83.41\n"
     ]
    },
    {
     "name": "stdout",
     "output_type": "stream",
     "text": [
      "step=   600, loss=0.841142,  accuracy: tr= 81.25, vl= 83.64\n"
     ]
    },
    {
     "name": "stdout",
     "output_type": "stream",
     "text": [
      "step=   700, loss=0.758531,  accuracy: tr= 82.81, vl= 84.47\n"
     ]
    },
    {
     "name": "stdout",
     "output_type": "stream",
     "text": [
      "step=   800, loss=0.827018,  accuracy: tr= 79.69, vl= 84.13\n"
     ]
    },
    {
     "name": "stdout",
     "output_type": "stream",
     "text": [
      "step=   900, loss=0.530344,  accuracy: tr= 89.06, vl= 84.78\n"
     ]
    },
    {
     "name": "stdout",
     "output_type": "stream",
     "text": [
      "step=  1000, loss=0.730379,  accuracy: tr= 84.38, vl= 85.64\n"
     ]
    },
    {
     "name": "stdout",
     "output_type": "stream",
     "text": [
      "step=  1100, loss=0.574654,  accuracy: tr= 84.38, vl= 85.83\n"
     ]
    },
    {
     "name": "stdout",
     "output_type": "stream",
     "text": [
      "step=  1200, loss=0.708011,  accuracy: tr= 85.94, vl= 86.05\n"
     ]
    },
    {
     "name": "stdout",
     "output_type": "stream",
     "text": [
      "step=  1300, loss=0.679463,  accuracy: tr= 84.38, vl= 85.99\n"
     ]
    },
    {
     "name": "stdout",
     "output_type": "stream",
     "text": [
      "step=  1400, loss=0.733544,  accuracy: tr= 78.12, vl= 86.60\n"
     ]
    },
    {
     "name": "stdout",
     "output_type": "stream",
     "text": [
      "step=  1500, loss=0.753772,  accuracy: tr= 85.94, vl= 86.91\n"
     ]
    },
    {
     "name": "stdout",
     "output_type": "stream",
     "text": [
      "step=  1600, loss=0.570654,  accuracy: tr= 87.50, vl= 86.84\n"
     ]
    },
    {
     "name": "stdout",
     "output_type": "stream",
     "text": [
      "step=  1700, loss=0.504841,  accuracy: tr= 90.62, vl= 86.71\n"
     ]
    },
    {
     "name": "stdout",
     "output_type": "stream",
     "text": [
      "step=  1800, loss=0.490796,  accuracy: tr= 89.06, vl= 86.76\n"
     ]
    },
    {
     "name": "stdout",
     "output_type": "stream",
     "text": [
      "step=  1900, loss=0.548218,  accuracy: tr= 93.75, vl= 86.94\n"
     ]
    },
    {
     "name": "stdout",
     "output_type": "stream",
     "text": [
      "step=  2000, loss=0.370050,  accuracy: tr= 95.31, vl= 87.13\n"
     ]
    },
    {
     "name": "stdout",
     "output_type": "stream",
     "text": [
      "step=  2100, loss=0.570256,  accuracy: tr= 89.06, vl= 87.52\n"
     ]
    },
    {
     "name": "stdout",
     "output_type": "stream",
     "text": [
      "step=  2200, loss=0.361197,  accuracy: tr= 92.19, vl= 87.24\n"
     ]
    },
    {
     "name": "stdout",
     "output_type": "stream",
     "text": [
      "step=  2300, loss=0.497142,  accuracy: tr= 87.50, vl= 87.41\n"
     ]
    },
    {
     "name": "stdout",
     "output_type": "stream",
     "text": [
      "step=  2400, loss=0.436991,  accuracy: tr= 90.62, vl= 87.24\n"
     ]
    },
    {
     "name": "stdout",
     "output_type": "stream",
     "text": [
      "step=  2500, loss=0.711850,  accuracy: tr= 89.06, vl= 87.65\n"
     ]
    },
    {
     "name": "stdout",
     "output_type": "stream",
     "text": [
      "step=  2600, loss=0.690120,  accuracy: tr= 81.25, vl= 87.68\n"
     ]
    },
    {
     "name": "stdout",
     "output_type": "stream",
     "text": [
      "step=  2700, loss=0.661984,  accuracy: tr= 87.50, vl= 87.59\n"
     ]
    },
    {
     "name": "stdout",
     "output_type": "stream",
     "text": [
      "step=  2800, loss=0.461773,  accuracy: tr= 92.19, vl= 87.44\n"
     ]
    },
    {
     "name": "stdout",
     "output_type": "stream",
     "text": [
      "step=  2900, loss=0.719152,  accuracy: tr= 84.38, vl= 88.00\n"
     ]
    },
    {
     "name": "stdout",
     "output_type": "stream",
     "text": [
      "step=  3000, loss=0.643565,  accuracy: tr= 90.62, vl= 88.10\n"
     ]
    },
    {
     "name": "stdout",
     "output_type": "stream",
     "text": [
      "step=  3100, loss=0.750495,  accuracy: tr= 82.81, vl= 87.83\n"
     ]
    },
    {
     "name": "stdout",
     "output_type": "stream",
     "text": [
      "step=  3200, loss=0.489074,  accuracy: tr= 87.50, vl= 88.33\n"
     ]
    },
    {
     "name": "stdout",
     "output_type": "stream",
     "text": [
      "step=  3300, loss=0.673607,  accuracy: tr= 85.94, vl= 88.02\n"
     ]
    },
    {
     "name": "stdout",
     "output_type": "stream",
     "text": [
      "step=  3400, loss=0.514596,  accuracy: tr= 85.94, vl= 88.03\n"
     ]
    },
    {
     "name": "stdout",
     "output_type": "stream",
     "text": [
      "step=  3500, loss=0.412288,  accuracy: tr= 95.31, vl= 88.39\n"
     ]
    },
    {
     "name": "stdout",
     "output_type": "stream",
     "text": [
      "step=  3600, loss=0.534742,  accuracy: tr= 90.62, vl= 88.40\n"
     ]
    },
    {
     "name": "stdout",
     "output_type": "stream",
     "text": [
      "step=  3700, loss=0.278222,  accuracy: tr= 92.19, vl= 88.32\n"
     ]
    },
    {
     "name": "stdout",
     "output_type": "stream",
     "text": [
      "step=  3800, loss=0.331564,  accuracy: tr= 95.31, vl= 88.48\n"
     ]
    },
    {
     "name": "stdout",
     "output_type": "stream",
     "text": [
      "step=  3900, loss=0.553309,  accuracy: tr= 89.06, vl= 88.40\n"
     ]
    },
    {
     "name": "stdout",
     "output_type": "stream",
     "text": [
      "step=  4000, loss=0.441642,  accuracy: tr= 92.19, vl= 88.32\n"
     ]
    },
    {
     "name": "stdout",
     "output_type": "stream",
     "text": [
      "step=  4100, loss=0.432871,  accuracy: tr= 90.62, vl= 88.64\n"
     ]
    },
    {
     "name": "stdout",
     "output_type": "stream",
     "text": [
      "step=  4200, loss=0.515008,  accuracy: tr= 92.19, vl= 88.67\n"
     ]
    },
    {
     "name": "stdout",
     "output_type": "stream",
     "text": [
      "step=  4300, loss=0.532688,  accuracy: tr= 89.06, vl= 88.85\n"
     ]
    },
    {
     "name": "stdout",
     "output_type": "stream",
     "text": [
      "step=  4400, loss=0.628085,  accuracy: tr= 82.81, vl= 88.64\n"
     ]
    },
    {
     "name": "stdout",
     "output_type": "stream",
     "text": [
      "step=  4500, loss=0.309318,  accuracy: tr= 93.75, vl= 88.68\n"
     ]
    },
    {
     "name": "stdout",
     "output_type": "stream",
     "text": [
      "step=  4600, loss=0.355101,  accuracy: tr= 90.62, vl= 88.71\n"
     ]
    },
    {
     "name": "stdout",
     "output_type": "stream",
     "text": [
      "step=  4700, loss=0.593200,  accuracy: tr= 84.38, vl= 88.33\n"
     ]
    },
    {
     "name": "stdout",
     "output_type": "stream",
     "text": [
      "step=  4800, loss=0.587567,  accuracy: tr= 84.38, vl= 88.64\n"
     ]
    },
    {
     "name": "stdout",
     "output_type": "stream",
     "text": [
      "step=  4900, loss=0.651833,  accuracy: tr= 85.94, vl= 88.72\n"
     ]
    },
    {
     "name": "stdout",
     "output_type": "stream",
     "text": [
      "step=  5000, loss=0.539297,  accuracy: tr= 87.50, vl= 88.88\n"
     ]
    },
    {
     "name": "stdout",
     "output_type": "stream",
     "text": [
      "step=  5100, loss=0.588807,  accuracy: tr= 89.06, vl= 88.91\n"
     ]
    },
    {
     "name": "stdout",
     "output_type": "stream",
     "text": [
      "step=  5200, loss=0.251241,  accuracy: tr= 93.75, vl= 89.21\n"
     ]
    },
    {
     "name": "stdout",
     "output_type": "stream",
     "text": [
      "step=  5300, loss=0.703060,  accuracy: tr= 82.81, vl= 89.19\n"
     ]
    },
    {
     "name": "stdout",
     "output_type": "stream",
     "text": [
      "step=  5400, loss=0.551522,  accuracy: tr= 85.94, vl= 89.02\n"
     ]
    },
    {
     "name": "stdout",
     "output_type": "stream",
     "text": [
      "step=  5500, loss=0.581259,  accuracy: tr= 89.06, vl= 88.88\n"
     ]
    },
    {
     "name": "stdout",
     "output_type": "stream",
     "text": [
      "step=  5600, loss=0.267647,  accuracy: tr= 96.88, vl= 89.16\n"
     ]
    },
    {
     "name": "stdout",
     "output_type": "stream",
     "text": [
      "step=  5700, loss=0.376622,  accuracy: tr= 89.06, vl= 89.02\n"
     ]
    },
    {
     "name": "stdout",
     "output_type": "stream",
     "text": [
      "step=  5800, loss=0.614248,  accuracy: tr= 85.94, vl= 89.14\n"
     ]
    },
    {
     "name": "stdout",
     "output_type": "stream",
     "text": [
      "step=  5900, loss=0.558333,  accuracy: tr= 89.06, vl= 89.07\n"
     ]
    },
    {
     "name": "stdout",
     "output_type": "stream",
     "text": [
      "step=  6000, loss=0.414668,  accuracy: tr= 93.75, vl= 89.22\n"
     ]
    },
    {
     "name": "stdout",
     "output_type": "stream",
     "text": [
      "step=  6100, loss=0.386893,  accuracy: tr= 92.19, vl= 89.22\n"
     ]
    },
    {
     "name": "stdout",
     "output_type": "stream",
     "text": [
      "step=  6200, loss=0.559567,  accuracy: tr= 90.62, vl= 88.97\n"
     ]
    },
    {
     "name": "stdout",
     "output_type": "stream",
     "text": [
      "step=  6300, loss=0.461186,  accuracy: tr= 90.62, vl= 89.26\n"
     ]
    },
    {
     "name": "stdout",
     "output_type": "stream",
     "text": [
      "step=  6400, loss=0.550538,  accuracy: tr= 89.06, vl= 89.21\n"
     ]
    },
    {
     "name": "stdout",
     "output_type": "stream",
     "text": [
      "step=  6500, loss=0.496747,  accuracy: tr= 92.19, vl= 89.34\n"
     ]
    },
    {
     "name": "stdout",
     "output_type": "stream",
     "text": [
      "step=  6600, loss=0.419177,  accuracy: tr= 93.75, vl= 89.29\n"
     ]
    },
    {
     "name": "stdout",
     "output_type": "stream",
     "text": [
      "step=  6700, loss=0.369637,  accuracy: tr= 92.19, vl= 89.34\n"
     ]
    },
    {
     "name": "stdout",
     "output_type": "stream",
     "text": [
      "step=  6800, loss=0.464042,  accuracy: tr= 85.94, vl= 89.43\n"
     ]
    },
    {
     "name": "stdout",
     "output_type": "stream",
     "text": [
      "step=  6900, loss=0.505594,  accuracy: tr= 90.62, vl= 89.56\n"
     ]
    },
    {
     "name": "stdout",
     "output_type": "stream",
     "text": [
      "step=  7000, loss=0.593737,  accuracy: tr= 87.50, vl= 89.69\n"
     ]
    },
    {
     "name": "stdout",
     "output_type": "stream",
     "text": [
      "step=  7100, loss=0.394601,  accuracy: tr= 93.75, vl= 89.46\n"
     ]
    },
    {
     "name": "stdout",
     "output_type": "stream",
     "text": [
      "step=  7200, loss=0.285525,  accuracy: tr= 95.31, vl= 89.60\n"
     ]
    },
    {
     "name": "stdout",
     "output_type": "stream",
     "text": [
      "step=  7300, loss=0.451163,  accuracy: tr= 92.19, vl= 89.48\n"
     ]
    },
    {
     "name": "stdout",
     "output_type": "stream",
     "text": [
      "step=  7400, loss=0.425257,  accuracy: tr= 92.19, vl= 89.70\n"
     ]
    },
    {
     "name": "stdout",
     "output_type": "stream",
     "text": [
      "step=  7500, loss=0.492675,  accuracy: tr= 90.62, vl= 89.44\n"
     ]
    },
    {
     "name": "stdout",
     "output_type": "stream",
     "text": [
      "step=  7600, loss=0.593964,  accuracy: tr= 87.50, vl= 89.70\n"
     ]
    },
    {
     "name": "stdout",
     "output_type": "stream",
     "text": [
      "step=  7700, loss=0.494334,  accuracy: tr= 87.50, vl= 89.75\n"
     ]
    },
    {
     "name": "stdout",
     "output_type": "stream",
     "text": [
      "step=  7800, loss=0.350658,  accuracy: tr= 90.62, vl= 89.54\n"
     ]
    },
    {
     "name": "stdout",
     "output_type": "stream",
     "text": [
      "step=  7900, loss=0.424478,  accuracy: tr= 92.19, vl= 89.74\n"
     ]
    },
    {
     "name": "stdout",
     "output_type": "stream",
     "text": [
      "step=  8000, loss=0.325604,  accuracy: tr= 95.31, vl= 89.88\n"
     ]
    },
    {
     "name": "stdout",
     "output_type": "stream",
     "text": [
      "step=  8100, loss=0.514392,  accuracy: tr= 84.38, vl= 89.77\n"
     ]
    },
    {
     "name": "stdout",
     "output_type": "stream",
     "text": [
      "step=  8200, loss=0.357163,  accuracy: tr= 93.75, vl= 89.77\n"
     ]
    },
    {
     "name": "stdout",
     "output_type": "stream",
     "text": [
      "step=  8300, loss=0.412823,  accuracy: tr= 92.19, vl= 89.69\n"
     ]
    },
    {
     "name": "stdout",
     "output_type": "stream",
     "text": [
      "step=  8400, loss=0.521806,  accuracy: tr= 92.19, vl= 89.96\n"
     ]
    },
    {
     "name": "stdout",
     "output_type": "stream",
     "text": [
      "step=  8500, loss=0.328079,  accuracy: tr= 96.88, vl= 89.81\n"
     ]
    },
    {
     "name": "stdout",
     "output_type": "stream",
     "text": [
      "step=  8600, loss=0.357194,  accuracy: tr= 92.19, vl= 89.78\n"
     ]
    },
    {
     "name": "stdout",
     "output_type": "stream",
     "text": [
      "step=  8700, loss=0.417593,  accuracy: tr= 93.75, vl= 89.94\n"
     ]
    },
    {
     "name": "stdout",
     "output_type": "stream",
     "text": [
      "step=  8800, loss=0.328693,  accuracy: tr= 93.75, vl= 89.75\n"
     ]
    },
    {
     "name": "stdout",
     "output_type": "stream",
     "text": [
      "step=  8900, loss=0.485812,  accuracy: tr= 87.50, vl= 89.85\n"
     ]
    },
    {
     "name": "stdout",
     "output_type": "stream",
     "text": [
      "step=  9000, loss=0.402652,  accuracy: tr= 85.94, vl= 89.78\n"
     ]
    },
    {
     "name": "stdout",
     "output_type": "stream",
     "text": [
      "step=  9100, loss=0.387954,  accuracy: tr= 92.19, vl= 89.87\n"
     ]
    },
    {
     "name": "stdout",
     "output_type": "stream",
     "text": [
      "step=  9200, loss=0.713948,  accuracy: tr= 82.81, vl= 90.07\n"
     ]
    },
    {
     "name": "stdout",
     "output_type": "stream",
     "text": [
      "step=  9300, loss=0.733016,  accuracy: tr= 85.94, vl= 89.87\n"
     ]
    },
    {
     "name": "stdout",
     "output_type": "stream",
     "text": [
      "step=  9400, loss=0.590384,  accuracy: tr= 84.38, vl= 89.90\n"
     ]
    },
    {
     "name": "stdout",
     "output_type": "stream",
     "text": [
      "step=  9500, loss=0.500895,  accuracy: tr= 89.06, vl= 89.89\n"
     ]
    },
    {
     "name": "stdout",
     "output_type": "stream",
     "text": [
      "step=  9600, loss=0.437496,  accuracy: tr= 92.19, vl= 89.72\n"
     ]
    },
    {
     "name": "stdout",
     "output_type": "stream",
     "text": [
      "step=  9700, loss=0.279643,  accuracy: tr= 98.44, vl= 89.68\n"
     ]
    },
    {
     "name": "stdout",
     "output_type": "stream",
     "text": [
      "step=  9800, loss=0.419997,  accuracy: tr= 90.62, vl= 89.92\n"
     ]
    },
    {
     "name": "stdout",
     "output_type": "stream",
     "text": [
      "step=  9900, loss=0.475109,  accuracy: tr= 90.62, vl= 89.90\n"
     ]
    },
    {
     "name": "stdout",
     "output_type": "stream",
     "text": [
      "step= 10000, loss=0.383266,  accuracy: tr= 93.75, vl= 89.82\nfinally, loss=0.383266,  accuracy: vl= 89.82, test= 95.49\nfinished\n"
     ]
    }
   ],
   "source": [
    "# write the model using max pooling\n",
    "\n",
    "batch_size = 64\n",
    "M_conv_p = 5  # patch size \n",
    "M_conv1_d = 6  # depth\n",
    "M_conv2_d = 16 # depth\n",
    "M_pool_s = 2  # pooling stride\n",
    "M_pool_k = 2  # pooling kernel size\n",
    "M_full3 = 120\n",
    "M_full4 = 84\n",
    "lambda_l2 = 0.002   # parameter for L2 penalty\n",
    "\n",
    "\n",
    "def size_after(size_in, stride=1, kernel=1, padding='SAME'):\n",
    "    \"\"\" tool function to calculate the size of next layer after convolution or pooling \"\"\"\n",
    "    devident, remainder =  divmod(size_in-(padding=='VALID')*(kernel-1), stride)\n",
    "    return devident + (remainder>0)\n",
    "\n",
    "\n",
    "size_M1_conv = size_after(image_size, kernel=M_conv_p, padding='SAME')\n",
    "size_M1_pool = size_after(size_M1_conv, stride=M_pool_s ,kernel=M_pool_k, padding='VALID')\n",
    "size_M2_conv = size_after(size_M1_pool, kernel=M_conv_p, padding='VALID')\n",
    "size_M2_pool = size_after(size_M2_conv, stride=M_pool_s, kernel=M_pool_k, padding='VALID')\n",
    "\n",
    "M2_size = size_M2_pool*size_M2_pool*M_conv2_d\n",
    "\n",
    "\n",
    "graph = tf.Graph()\n",
    "\n",
    "with graph.as_default():\n",
    "    # global step for rate decay\n",
    "    global_step = tf.Variable(0)  # count the number of steps taken.\n",
    "    learning_rate = tf.train.exponential_decay(0.2, global_step, decay_steps=10000, decay_rate=0.1)\n",
    "    \n",
    "    \"\"\" declare placeholder, constant and variable \"\"\"\n",
    "    # placeholder\n",
    "    X_tr = tf.placeholder(dtype=tf.float32, shape=[batch_size, image_size, image_size, num_channels])\n",
    "    Y_tr = tf.placeholder(dtype=tf.float32, shape=[batch_size, num_labels])\n",
    "    \n",
    "    # constant\n",
    "    X_vl = tf.constant(valid_dataset, dtype=tf.float32)\n",
    "    X_ts = tf.constant( test_dataset, dtype=tf.float32)\n",
    "    \n",
    "    # variable\n",
    "    W1_conv = tf.Variable(tf.truncated_normal(shape=[M_conv_p, M_conv_p, num_channels, M_conv1_d], stddev=0.05))\n",
    "    b1_conv = tf.Variable(tf.zeros(M_conv1_d))\n",
    "    W2_conv = tf.Variable(tf.truncated_normal(shape=[M_conv_p, M_conv_p, M_conv1_d, M_conv2_d], stddev=0.05))\n",
    "    b2_conv = tf.Variable(tf.zeros(M_conv2_d))\n",
    "    W3_full = tf.Variable(tf.truncated_normal(shape=[M2_size, M_full3], stddev=0.05))\n",
    "    b3_full = tf.Variable(tf.zeros(M_full3))\n",
    "    W4_full = tf.Variable(tf.truncated_normal(shape=[M_full3, M_full4], stddev=0.05))\n",
    "    b4_full = tf.Variable(tf.zeros(M_full4))\n",
    "    W5_full = tf.Variable(tf.truncated_normal(shape=[M_full4, num_labels], stddev=0.05))\n",
    "    b5_full = tf.Variable(tf.zeros(num_labels))\n",
    "\n",
    "    \"\"\" define the neural network model \"\"\"\n",
    "    def model(X_in, dropout_keep_prob=1.0):\n",
    "        X1_conv = tf.nn.relu(b1_conv + \\\n",
    "                             tf.nn.conv2d(X_in,    filter=W1_conv, strides=[1, 1, 1, 1], padding='SAME'))\n",
    "        X1_pool = tf.nn.max_pool(X1_conv, ksize=[1,M_pool_k, M_pool_k, 1], strides=[1,M_pool_s, M_pool_s, 1], padding='SAME')\n",
    "        X1_drop = tf.nn.dropout(X1_pool, keep_prob=dropout_keep_prob)\n",
    "        X2_conv = tf.nn.relu(b2_conv + \\\n",
    "                             tf.nn.conv2d(X1_drop, filter=W2_conv, strides=[1, 1, 1, 1], padding='VALID'))\n",
    "        X2_pool = tf.nn.max_pool(X2_conv, ksize=[1,M_pool_k, M_pool_k, 1], strides=[1,M_pool_s, M_pool_s, 1], padding='SAME')\n",
    "        X2_drop = tf.nn.dropout(X2_pool, keep_prob=dropout_keep_prob)\n",
    "        X2_flat = tf.reshape(X2_drop, [-1, M2_size])\n",
    "        X3_full = tf.nn.relu(b3_full + tf.matmul(X2_flat, W3_full))\n",
    "        X3_drop = tf.nn.dropout(X3_full, keep_prob=dropout_keep_prob)\n",
    "        X4_full = tf.nn.relu(b4_full + tf.matmul(X3_drop, W4_full))\n",
    "        X4_drop = tf.nn.dropout(X4_full, keep_prob=dropout_keep_prob)\n",
    "        X_out = b5_full + tf.matmul(X4_drop, W5_full)\n",
    "        return X_out\n",
    "\n",
    "    \"\"\" define training loss and optimizer \"\"\"\n",
    "    logits = model(X_tr, dropout_keep_prob=0.80)\n",
    "    loss = tf.reduce_mean(tf.nn.softmax_cross_entropy_with_logits(labels=Y_tr, logits=logits)) +\\\n",
    "           lambda_l2*tf.nn.l2_loss(W1_conv) + lambda_l2*tf.nn.l2_loss(W2_conv) + \\\n",
    "           lambda_l2*tf.nn.l2_loss(W3_full) + lambda_l2*tf.nn.l2_loss(W4_full)\n",
    "    \n",
    "    optimizer = tf.train.GradientDescentOptimizer(learning_rate).minimize(loss, global_step=global_step)\n",
    "\n",
    "    \"\"\" get train/valid/test predictions \"\"\"\n",
    "    y_hat_tr = tf.nn.softmax( model(X_tr, dropout_keep_prob=1.0))\n",
    "    y_hat_vl = tf.nn.softmax( model(X_vl, dropout_keep_prob=1.0))\n",
    "    y_hat_ts = tf.nn.softmax( model(X_ts, dropout_keep_prob=1.0))\n",
    "\n",
    "\n",
    "# make a session to run the model\n",
    "num_steps = 10001\n",
    "\n",
    "with tf.Session(graph=graph) as session:\n",
    "    tf.global_variables_initializer().run()    # remember to initialize variables\n",
    "    print('model variable initialized')\n",
    "    for step in range(num_steps):\n",
    "        offset = (step*batch_size)%(len(train_dataset)-batch_size)\n",
    "        if offset<batch_size:    # shuffle the dataset after going over it once\n",
    "            indx_shuffle = np.random.permutation(len(train_dataset))\n",
    "            train_dataset = train_dataset[indx_shuffle]\n",
    "            train_labels  = train_labels[indx_shuffle]\n",
    "        feed_dict = {X_tr: train_dataset[offset:offset+batch_size], Y_tr:  train_labels[offset:offset+batch_size]}\n",
    "        [_, loss_cur, y_hat_tr_cur] = session.run([optimizer, loss, y_hat_tr], feed_dict=feed_dict)\n",
    "        if step%100 == 0:\n",
    "            acc_tr = accuracy(y_hat_tr_cur, train_labels[offset:offset+batch_size])\n",
    "            acc_vl = accuracy(y_hat_vl.eval(), valid_labels)\n",
    "            print('step={:>6}, loss={:>6f},  accuracy: tr={:6.2f}, vl={:6.2f}'.format(step, loss_cur, acc_tr, acc_vl))\n",
    "    acc_ts = accuracy(y_hat_ts.eval(),  test_labels)\n",
    "    print('finally, loss={:>6f},  accuracy: vl={:6.2f}, test={:6.2f}'.format(loss_cur, acc_vl, acc_ts))\n",
    "\n",
    "print('finished')"
   ]
  },
  {
   "cell_type": "code",
   "execution_count": 207,
   "metadata": {},
   "outputs": [
    {
     "data": {
      "text/plain": [
       "array([2, 1, 7, 9, 5, 3, 8, 6, 0, 4])"
      ]
     },
     "execution_count": 207,
     "metadata": {},
     "output_type": "execute_result"
    }
   ],
   "source": [
    "np.random.permutation(10)"
   ]
  },
  {
   "cell_type": "code",
   "execution_count": null,
   "metadata": {},
   "outputs": [],
   "source": []
  }
 ],
 "metadata": {
  "colab": {
   "default_view": {},
   "name": "4_convolutions.ipynb",
   "provenance": [],
   "version": "0.3.2",
   "views": {}
  },
  "kernelspec": {
   "display_name": "Python 3",
   "language": "python",
   "name": "python3"
  },
  "language_info": {
   "codemirror_mode": {
    "name": "ipython",
    "version": 3
   },
   "file_extension": ".py",
   "mimetype": "text/x-python",
   "name": "python",
   "nbconvert_exporter": "python",
   "pygments_lexer": "ipython3",
   "version": "3.6.1"
  }
 },
 "nbformat": 4,
 "nbformat_minor": 1
}
